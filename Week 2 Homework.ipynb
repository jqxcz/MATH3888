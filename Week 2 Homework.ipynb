{
    "cells": [
        {
            "attachments": {},
            "cell_type": "markdown",
            "metadata": {},
            "source": [
                "# Protein-Protein Interactions in NetworkX"
            ]
        },
        {
            "attachments": {},
            "cell_type": "markdown",
            "metadata": {},
            "source": [
                "## Reading in the data"
            ]
        },
        {
            "cell_type": "markdown",
            "metadata": {},
            "source": [
                "The code for this section is modified from the template provided on Edstem (https://edstem.org/au/courses/9294/workspaces/pom60rmZj83qux9UNbo65jd1BjjfWEj4)\n"
            ]
        },
        {
            "cell_type": "code",
            "execution_count": 1,
            "metadata": {},
            "outputs": [],
            "source": [
                "\n",
                "# one needs to import those packages which are needed; best to be done at the beginning of the program.\n",
                "\n",
                "import networkx as nx\n",
                "\n",
                "import numpy as np\n",
                "import scipy as sp\n",
                "\n",
                "# some basic settings for plotting figures\n",
                "import matplotlib.pyplot as plt\n",
                "%matplotlib inline \n",
                "font = {'family' : 'DejaVu Sans',\n",
                "        'size'   : 18}\n",
                "\n",
                "plt.rc('font', **font)"
            ]
        },
        {
            "cell_type": "code",
            "execution_count": 2,
            "metadata": {},
            "outputs": [],
            "source": [
                "G = nx.read_weighted_edgelist(\"./4932.protein.links.v11.5.txt\",comments=\"#\",nodetype=str)"
            ]
        },
        {
            "attachments": {},
            "cell_type": "markdown",
            "metadata": {},
            "source": [
                "### Conversion to unweighted network\n",
                "\n",
                "We convert the graph to a unweighted network, by removing all edges with confidence < 700.\n"
            ]
        },
        {
            "cell_type": "code",
            "execution_count": 3,
            "metadata": {},
            "outputs": [
                {
                    "name": "stdout",
                    "output_type": "stream",
                    "text": [
                        "377\n"
                    ]
                }
            ],
            "source": [
                "# delete those edges with a combined score of < threshold_score (small confidence)\n",
                "threshold_score = 700\n",
                "boundary_count = 0\n",
                "\n",
                "for edge in G.edges: \n",
                "    weight = list(G.get_edge_data(edge[0],edge[1]).values())\n",
                "    if (weight[0] == threshold_score):\n",
                "        boundary_count += 1\n",
                "    if (weight[0] < threshold_score):\n",
                "        G.remove_edge(edge[0],edge[1])\n",
                "\n",
                "print(boundary_count)"
            ]
        },
        {
            "attachments": {},
            "cell_type": "markdown",
            "metadata": {},
            "source": [
                "## Problem 1\n",
                "\n",
                "How many nodes are there with degree $k=1$?"
            ]
        },
        {
            "cell_type": "code",
            "execution_count": 4,
            "metadata": {},
            "outputs": [
                {
                    "name": "stdout",
                    "output_type": "stream",
                    "text": [
                        "165\n"
                    ]
                }
            ],
            "source": [
                "end_nodes = 0\n",
                "for node, degree in G.degree():\n",
                "    if degree == 1:\n",
                "        end_nodes += 1\n",
                "print(end_nodes)"
            ]
        },
        {
            "cell_type": "markdown",
            "metadata": {},
            "source": [
                "## Problem 2\n",
                "\n",
                "What is the mean degree?"
            ]
        },
        {
            "cell_type": "code",
            "execution_count": 5,
            "metadata": {},
            "outputs": [
                {
                    "name": "stdout",
                    "output_type": "stream",
                    "text": [
                        "37.65592743196747\n"
                    ]
                }
            ],
            "source": [
                "total_degree = 0\n",
                "for node, degree in G.degree():\n",
                "    total_degree += degree\n",
                "\n",
                "avg_degree = total_degree / G.number_of_nodes()\n",
                "print(avg_degree)"
            ]
        },
        {
            "attachments": {},
            "cell_type": "markdown",
            "metadata": {},
            "source": [
                "## Problem 3\n",
                "\n",
                "Which proteins have the largest degrees?"
            ]
        },
        {
            "cell_type": "code",
            "execution_count": 6,
            "metadata": {},
            "outputs": [
                {
                    "name": "stdout",
                    "output_type": "stream",
                    "text": [
                        "YJR123W degree=385\n",
                        "YKL009W degree=385\n",
                        "YNL178W degree=380\n",
                        "YDR064W degree=365\n",
                        "YDR101C degree=354\n"
                    ]
                }
            ],
            "source": [
                "nodes = list(G.nodes())\n",
                "degree = G.degree()\n",
                "nodes.sort(key = lambda v: degree[v], reverse=True)\n",
                "\n",
                "def remove_prefix(node):\n",
                "    return node[5:]\n",
                "\n",
                "for i in range(5):\n",
                "    print(remove_prefix(nodes[i]), f\"degree={degree[nodes[i]]}\")\n"
            ]
        },
        {
            "cell_type": "markdown",
            "metadata": {},
            "source": [
                "## Problem 4\n",
                "\n",
                "Plot the (sorted) degrees as a function of their indices (first index belongs to the smallest degree\n",
                "and the last index to the largest degree)"
            ]
        },
        {
            "cell_type": "code",
            "execution_count": 7,
            "metadata": {},
            "outputs": [
                {
                    "data": {
                        "text/plain": [
                            "[<matplotlib.lines.Line2D at 0x7f1c9a72e940>]"
                        ]
                    },
                    "execution_count": 7,
                    "metadata": {},
                    "output_type": "execute_result"
                },
                {
                    "data": {
                        "image/png": "[encoded data removed]",
                        "text/plain": [
                            "<Figure size 432x288 with 1 Axes>"
                        ]
                    },
                    "metadata": {
                        "needs_background": "light"
                    },
                    "output_type": "display_data"
                }
            ],
            "source": [
                "degree = sorted(dict(G.degree()).values())\n",
                "\n",
                "\n",
                "fig, ax = plt.subplots()\n",
                "ax.plot(range(len(degree)), degree)"
            ]
        },
        {
            "cell_type": "markdown",
            "metadata": {},
            "source": [
                "## Problem 5\n",
                "\n",
                "Plot the distribution of the degrees as a histogram using the command `matplotlib.pyplot.hist`. (read the documentation to check how to normalize the histogram)."
            ]
        },
        {
            "cell_type": "code",
            "execution_count": 8,
            "metadata": {},
            "outputs": [
                {
                    "data": {
                        "text/plain": [
                            "(array([1.88732131e-02, 3.83882617e-03, 1.34866697e-03, 5.07781240e-04,\n",
                            "        3.29042243e-04, 3.77789242e-04, 3.61540243e-04, 1.94987996e-04,\n",
                            "        1.09680748e-04, 3.24979993e-05]),\n",
                            " array([  0. ,  38.5,  77. , 115.5, 154. , 192.5, 231. , 269.5, 308. ,\n",
                            "        346.5, 385. ]),\n",
                            " <BarContainer object of 10 artists>)"
                        ]
                    },
                    "execution_count": 8,
                    "metadata": {},
                    "output_type": "execute_result"
                },
                {
                    "data": {
                        "image/png": "[encoded data removed]",
                        "text/plain": [
                            "<Figure size 432x288 with 1 Axes>"
                        ]
                    },
                    "metadata": {
                        "needs_background": "light"
                    },
                    "output_type": "display_data"
                }
            ],
            "source": [
                "degree = sorted(dict(G.degree()).values())\n",
                "\n",
                "\n",
                "plt.hist(degree, density=True)"
            ]
        },
        {
            "cell_type": "code",
            "execution_count": null,
            "metadata": {},
            "outputs": [],
            "source": []
        }
    ],
    "metadata": {
        "kernelspec": {
            "display_name": "Python 3.8.10 64-bit",
            "language": "python",
            "name": "python3"
        },
        "language_info": {
            "codemirror_mode": {
                "name": "ipython",
                "version": 3
            },
            "file_extension": ".py",
            "mimetype": "text/x-python",
            "name": "python",
            "nbconvert_exporter": "python",
            "pygments_lexer": "ipython3",
            "version": "3.8.10"
        },
        "vscode": {
            "interpreter": {
                "hash": "767d51c1340bd893661ea55ea3124f6de3c7a262a8b4abca0554b478b1e2ff90"
            }
        }
    },
    "nbformat": 4,
    "nbformat_minor": 4
}
