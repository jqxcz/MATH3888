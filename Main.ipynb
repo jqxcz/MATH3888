{
 "cells": [
  {
   "cell_type": "code",
   "execution_count": 1,
   "metadata": {},
   "outputs": [],
   "source": [
    "import pandas as pd\n"
   ]
  },
  {
   "cell_type": "code",
   "execution_count": 2,
   "metadata": {},
   "outputs": [],
   "source": [
    "# Generate common name for yeast proteins\n",
    "temp_df = pd.read_table(\"./4932.protein.info.v11.5.txt\",delimiter='\\t')\n",
    "common_name = dict(temp_df.iloc[:,:2].values)"
   ]
  },
  {
   "cell_type": "code",
   "execution_count": 3,
   "metadata": {},
   "outputs": [],
   "source": [
    "# Read in preprocessed uniprot data\n",
    "uniprot_df = pd.read_csv('uniprot_processed.csv')"
   ]
  },
  {
   "cell_type": "code",
   "execution_count": 4,
   "metadata": {},
   "outputs": [],
   "source": [
    "# Read in essential node data\n",
    "essential_df = pd.read_csv('essential.csv', header=None)"
   ]
  },
  {
   "cell_type": "code",
   "execution_count": 5,
   "metadata": {},
   "outputs": [],
   "source": [
    "# import and setup\n",
    "import networkx as nx\n",
    "\n",
    "import numpy as np\n",
    "import scipy as sp\n",
    "\n",
    "# some basic settings for plotting figures\n",
    "import matplotlib.pyplot as plt\n",
    "%matplotlib inline \n",
    "font = {'family' : 'DejaVu Sans',\n",
    "        'weight' : 'bold',\n",
    "        'size'   : 32}\n",
    "\n",
    "plt.rc('font', **font)"
   ]
  },
  {
   "cell_type": "code",
   "execution_count": 6,
   "metadata": {},
   "outputs": [],
   "source": [
    "# Let's keep track of our studied proteins\n",
    "studied_proteins = {\n",
    "    'DIC1': '4932.YLR348C',\n",
    "    'RGT2': '4932.YDL138W',\n",
    "    'CBF5': '4932.YLR175W',\n",
    "    'EST2': '4932.YLR318W'\n",
    "}"
   ]
  },
  {
   "cell_type": "code",
   "execution_count": 7,
   "metadata": {},
   "outputs": [],
   "source": [
    "# Read in dataframe for detailed protein links\n",
    "G0_dataframe = pd.read_table(\"./4932.protein.links.detailed.v11.5.txt\",delimiter=' ')"
   ]
  },
  {
   "cell_type": "code",
   "execution_count": 8,
   "metadata": {},
   "outputs": [],
   "source": [
    "# Reweight edges of protein links\n",
    "keep_columns = [\n",
    "    'neighborhood', 'fusion', 'cooccurence', \n",
    "    'coexpression', 'experimental', 'database', \n",
    "    'textmining'\n",
    "]\n",
    "\n",
    "# Double weight of experimental evidence\n",
    "G0_dataframe['experimental'] *= 2\n",
    "\n",
    "# Half weight of textmining\n",
    "G0_dataframe['textmining'] //=2\n",
    "\n",
    "# Calculate combined score\n",
    "G0_dataframe.combined_score = G0_dataframe[keep_columns].max(axis=1)\n",
    "\n",
    "# Drop edges with combined score of zero\n",
    "G0_dataframe = G0_dataframe.drop(G0_dataframe[G0_dataframe.combined_score == 0].index)"
   ]
  },
  {
   "cell_type": "code",
   "execution_count": 9,
   "metadata": {},
   "outputs": [],
   "source": [
    "# Drop edges with combined score of <= threshold score\n",
    "threshold_score = 600\n",
    "G0_dataframe = G0_dataframe.drop(\n",
    "    G0_dataframe[G0_dataframe.combined_score <= threshold_score].index\n",
    "    )"
   ]
  },
  {
   "cell_type": "code",
   "execution_count": 10,
   "metadata": {},
   "outputs": [
    {
     "data": {
      "text/html": [
       "<div>\n",
       "<style scoped>\n",
       "    .dataframe tbody tr th:only-of-type {\n",
       "        vertical-align: middle;\n",
       "    }\n",
       "\n",
       "    .dataframe tbody tr th {\n",
       "        vertical-align: top;\n",
       "    }\n",
       "\n",
       "    .dataframe thead th {\n",
       "        text-align: right;\n",
       "    }\n",
       "</style>\n",
       "<table border=\"1\" class=\"dataframe\">\n",
       "  <thead>\n",
       "    <tr style=\"text-align: right;\">\n",
       "      <th></th>\n",
       "      <th>protein1</th>\n",
       "      <th>protein2</th>\n",
       "      <th>neighborhood</th>\n",
       "      <th>fusion</th>\n",
       "      <th>cooccurence</th>\n",
       "      <th>coexpression</th>\n",
       "      <th>experimental</th>\n",
       "      <th>database</th>\n",
       "      <th>textmining</th>\n",
       "      <th>combined_score</th>\n",
       "    </tr>\n",
       "  </thead>\n",
       "  <tbody>\n",
       "    <tr>\n",
       "      <th>67</th>\n",
       "      <td>4932.Q0045</td>\n",
       "      <td>4932.YML120C</td>\n",
       "      <td>0</td>\n",
       "      <td>0</td>\n",
       "      <td>0</td>\n",
       "      <td>0</td>\n",
       "      <td>0</td>\n",
       "      <td>900</td>\n",
       "      <td>55</td>\n",
       "      <td>900</td>\n",
       "    </tr>\n",
       "    <tr>\n",
       "      <th>71</th>\n",
       "      <td>4932.Q0045</td>\n",
       "      <td>4932.YOR257W</td>\n",
       "      <td>0</td>\n",
       "      <td>0</td>\n",
       "      <td>0</td>\n",
       "      <td>0</td>\n",
       "      <td>630</td>\n",
       "      <td>0</td>\n",
       "      <td>0</td>\n",
       "      <td>630</td>\n",
       "    </tr>\n",
       "    <tr>\n",
       "      <th>73</th>\n",
       "      <td>4932.Q0045</td>\n",
       "      <td>4932.YPL172C</td>\n",
       "      <td>155</td>\n",
       "      <td>0</td>\n",
       "      <td>370</td>\n",
       "      <td>499</td>\n",
       "      <td>630</td>\n",
       "      <td>0</td>\n",
       "      <td>419</td>\n",
       "      <td>630</td>\n",
       "    </tr>\n",
       "    <tr>\n",
       "      <th>75</th>\n",
       "      <td>4932.Q0045</td>\n",
       "      <td>4932.YGR033C</td>\n",
       "      <td>0</td>\n",
       "      <td>0</td>\n",
       "      <td>0</td>\n",
       "      <td>0</td>\n",
       "      <td>702</td>\n",
       "      <td>0</td>\n",
       "      <td>0</td>\n",
       "      <td>702</td>\n",
       "    </tr>\n",
       "    <tr>\n",
       "      <th>80</th>\n",
       "      <td>4932.Q0045</td>\n",
       "      <td>4932.YKL192C</td>\n",
       "      <td>0</td>\n",
       "      <td>0</td>\n",
       "      <td>0</td>\n",
       "      <td>49</td>\n",
       "      <td>1060</td>\n",
       "      <td>0</td>\n",
       "      <td>116</td>\n",
       "      <td>1060</td>\n",
       "    </tr>\n",
       "    <tr>\n",
       "      <th>...</th>\n",
       "      <td>...</td>\n",
       "      <td>...</td>\n",
       "      <td>...</td>\n",
       "      <td>...</td>\n",
       "      <td>...</td>\n",
       "      <td>...</td>\n",
       "      <td>...</td>\n",
       "      <td>...</td>\n",
       "      <td>...</td>\n",
       "      <td>...</td>\n",
       "    </tr>\n",
       "    <tr>\n",
       "      <th>1988527</th>\n",
       "      <td>4932.YPR203W</td>\n",
       "      <td>4932.YER189W</td>\n",
       "      <td>0</td>\n",
       "      <td>0</td>\n",
       "      <td>0</td>\n",
       "      <td>872</td>\n",
       "      <td>0</td>\n",
       "      <td>0</td>\n",
       "      <td>0</td>\n",
       "      <td>872</td>\n",
       "    </tr>\n",
       "    <tr>\n",
       "      <th>1988542</th>\n",
       "      <td>4932.YPR204W</td>\n",
       "      <td>4932.YPR018W</td>\n",
       "      <td>0</td>\n",
       "      <td>0</td>\n",
       "      <td>0</td>\n",
       "      <td>0</td>\n",
       "      <td>840</td>\n",
       "      <td>0</td>\n",
       "      <td>0</td>\n",
       "      <td>840</td>\n",
       "    </tr>\n",
       "    <tr>\n",
       "      <th>1988553</th>\n",
       "      <td>4932.YPR204W</td>\n",
       "      <td>4932.YBL032W</td>\n",
       "      <td>0</td>\n",
       "      <td>0</td>\n",
       "      <td>0</td>\n",
       "      <td>0</td>\n",
       "      <td>630</td>\n",
       "      <td>0</td>\n",
       "      <td>0</td>\n",
       "      <td>630</td>\n",
       "    </tr>\n",
       "    <tr>\n",
       "      <th>1988565</th>\n",
       "      <td>4932.YPR204W</td>\n",
       "      <td>4932.YNL255C</td>\n",
       "      <td>0</td>\n",
       "      <td>0</td>\n",
       "      <td>0</td>\n",
       "      <td>0</td>\n",
       "      <td>630</td>\n",
       "      <td>0</td>\n",
       "      <td>0</td>\n",
       "      <td>630</td>\n",
       "    </tr>\n",
       "    <tr>\n",
       "      <th>1988570</th>\n",
       "      <td>4932.YPR204W</td>\n",
       "      <td>4932.YBR245C</td>\n",
       "      <td>0</td>\n",
       "      <td>0</td>\n",
       "      <td>0</td>\n",
       "      <td>0</td>\n",
       "      <td>630</td>\n",
       "      <td>0</td>\n",
       "      <td>0</td>\n",
       "      <td>630</td>\n",
       "    </tr>\n",
       "  </tbody>\n",
       "</table>\n",
       "<p>334098 rows × 10 columns</p>\n",
       "</div>"
      ],
      "text/plain": [
       "             protein1      protein2  neighborhood  fusion  cooccurence  \\\n",
       "67         4932.Q0045  4932.YML120C             0       0            0   \n",
       "71         4932.Q0045  4932.YOR257W             0       0            0   \n",
       "73         4932.Q0045  4932.YPL172C           155       0          370   \n",
       "75         4932.Q0045  4932.YGR033C             0       0            0   \n",
       "80         4932.Q0045  4932.YKL192C             0       0            0   \n",
       "...               ...           ...           ...     ...          ...   \n",
       "1988527  4932.YPR203W  4932.YER189W             0       0            0   \n",
       "1988542  4932.YPR204W  4932.YPR018W             0       0            0   \n",
       "1988553  4932.YPR204W  4932.YBL032W             0       0            0   \n",
       "1988565  4932.YPR204W  4932.YNL255C             0       0            0   \n",
       "1988570  4932.YPR204W  4932.YBR245C             0       0            0   \n",
       "\n",
       "         coexpression  experimental  database  textmining  combined_score  \n",
       "67                  0             0       900          55             900  \n",
       "71                  0           630         0           0             630  \n",
       "73                499           630         0         419             630  \n",
       "75                  0           702         0           0             702  \n",
       "80                 49          1060         0         116            1060  \n",
       "...               ...           ...       ...         ...             ...  \n",
       "1988527           872             0         0           0             872  \n",
       "1988542             0           840         0           0             840  \n",
       "1988553             0           630         0           0             630  \n",
       "1988565             0           630         0           0             630  \n",
       "1988570             0           630         0           0             630  \n",
       "\n",
       "[334098 rows x 10 columns]"
      ]
     },
     "execution_count": 10,
     "metadata": {},
     "output_type": "execute_result"
    }
   ],
   "source": [
    "# Sanity check of data\n",
    "\n",
    "G0_dataframe"
   ]
  },
  {
   "cell_type": "code",
   "execution_count": 11,
   "metadata": {},
   "outputs": [],
   "source": [
    "# Create nx graph\n",
    "\n",
    "G0 = nx.from_pandas_edgelist(G0_dataframe, \n",
    "    source='protein1', \n",
    "    target='protein2', \n",
    "    edge_attr=True)"
   ]
  },
  {
   "cell_type": "code",
   "execution_count": 12,
   "metadata": {},
   "outputs": [
    {
     "name": "stdout",
     "output_type": "stream",
     "text": [
      "len(irrelevant_proteins)=1334, len(ribosomal_proteins)=312\n",
      "len(G0.nodes)=5912\n",
      "len(G0.nodes)=4266\n"
     ]
    }
   ],
   "source": [
    "# Ignore certain nodes in the protein network, and also combine uniprot data\n",
    "\n",
    "# remove proteins that are not in a location that we are targeting\n",
    "# (we target membrane, mitochrondrial, cytoplasm and nucleus proteins)\n",
    "irrelevant_proteins = []\n",
    "\n",
    "# remove proteins that are ribosomal\n",
    "ribosomal_proteins = []\n",
    "\n",
    "row_index = {}\n",
    "\n",
    "for node in G0.nodes:\n",
    "    # Get row index of matching row for a protein\n",
    "    node_name = node.split('.')[1]\n",
    "    node_matches = uniprot_df['Gene Names'].str.contains(node_name).fillna(False)\n",
    "    node_uniprot = uniprot_df.index[node_matches][0]\n",
    "\n",
    "    if uniprot_df['location_match'][node_uniprot] == 0:\n",
    "        irrelevant_proteins.append(node)\n",
    "\n",
    "    elif uniprot_df['ribosomal'][node_uniprot] == True:\n",
    "        ribosomal_proteins.append(node)\n",
    "\n",
    "    else:\n",
    "        row_index[node] = node_uniprot\n",
    "\n",
    "print(f\"{len(irrelevant_proteins)=}, {len(ribosomal_proteins)=}\")\n",
    "print(f\"{len(G0.nodes)=}\")\n",
    "G0.remove_nodes_from(irrelevant_proteins)\n",
    "G0.remove_nodes_from(ribosomal_proteins)\n",
    "print(f\"{len(G0.nodes)=}\")"
   ]
  },
  {
   "cell_type": "code",
   "execution_count": 13,
   "metadata": {},
   "outputs": [],
   "source": [
    "# Track location of nodes\n",
    "node_location = {}\n",
    "\n",
    "mitochondrial_proteins = set()\n",
    "cytoplasm_proteins = set()\n",
    "membrane_proteins = set()\n",
    "nucleus_proteins = set()\n",
    "\n",
    "for node in G0.nodes:\n",
    "    if uniprot_df['mitochon'][row_index[node]] == 1:\n",
    "        node_location[node] = 'mitochondria'\n",
    "        mitochondrial_proteins.add(node)\n",
    "    elif uniprot_df['cytoplasm'][row_index[node]] == 1:\n",
    "        node_location[node] = 'cytoplasm'\n",
    "        cytoplasm_proteins.add(node)\n",
    "    elif uniprot_df['membrane'][row_index[node]] == 1:\n",
    "        node_location[node] = 'membrane'\n",
    "        membrane_proteins.add(node)\n",
    "    elif uniprot_df['nucleus'][row_index[node]] == 1:\n",
    "        node_location[node] = 'nucleus'\n",
    "        nucleus_proteins.add(node)\n",
    "    else:\n",
    "        node_location[node] = 'other'\n",
    "\n",
    "nx.set_node_attributes(G0, values=node_location, name='location')"
   ]
  },
  {
   "cell_type": "code",
   "execution_count": 14,
   "metadata": {},
   "outputs": [
    {
     "name": "stdout",
     "output_type": "stream",
     "text": [
      "len(G0.nodes)=4266\n",
      "len(G0.nodes)=3271\n"
     ]
    }
   ],
   "source": [
    "# We remove essential proteins, but keep proteins we want to study\n",
    "essential_proteins_raw = essential_df[1].values\n",
    "essential_proteins = set(map(lambda x: '4932.' + x, essential_proteins_raw))\n",
    "essential_proteins -= set(studied_proteins.values())\n",
    "print(f\"{len(G0.nodes)=}\")\n",
    "G0.remove_nodes_from(list(essential_proteins))\n",
    "print(f\"{len(G0.nodes)=}\")"
   ]
  },
  {
   "cell_type": "code",
   "execution_count": 15,
   "metadata": {},
   "outputs": [
    {
     "name": "stdout",
     "output_type": "stream",
     "text": [
      "len(G0.nodes)=3172\n"
     ]
    }
   ],
   "source": [
    "# Let's only keep the largest connected component\n",
    "largest_component = max(list(nx.connected_components(G0)), key=len)\n",
    "G0 = G0.subgraph(largest_component)\n",
    "print(f\"{len(G0.nodes)=}\")"
   ]
  },
  {
   "cell_type": "code",
   "execution_count": 16,
   "metadata": {},
   "outputs": [],
   "source": [
    "# Sanity check - \n",
    "#   Check proteins we are interested in are still in the network\n",
    "\n",
    "for key, value in studied_proteins.items():\n",
    "    if value not in G0.nodes:\n",
    "        print(f\"ERROR: {key} was deleted from the network!\")"
   ]
  },
  {
   "cell_type": "code",
   "execution_count": 17,
   "metadata": {},
   "outputs": [],
   "source": [
    "# Check statistics about clusters\n",
    "def check_louvain(louvain_communities):\n",
    "    num_clusters = len(louvain_communities)\n",
    "    cluster_sizes = list(map(len, louvain_communities))\n",
    "    print(f\"{num_clusters=}, avg_size={sum(cluster_sizes)/num_clusters}\")\n",
    "    print(cluster_sizes)"
   ]
  },
  {
   "cell_type": "code",
   "execution_count": 18,
   "metadata": {},
   "outputs": [],
   "source": [
    "# Perform louvain clustering\n",
    "mitochondrial_communities = nx.algorithms.community.louvain_communities(\n",
    "    G0.subgraph(mitochondrial_proteins), \n",
    "    resolution=2)\n",
    "cytoplasm_communities = nx.algorithms.community.louvain_communities(\n",
    "    G0.subgraph(cytoplasm_proteins), \n",
    "    resolution=2)\n",
    "nucleus_communities = nx.algorithms.community.louvain_communities(\n",
    "    G0.subgraph(nucleus_proteins), \n",
    "    resolution=2)\n",
    "membrane_communities = nx.algorithms.community.louvain_communities(\n",
    "    G0.subgraph(membrane_proteins), \n",
    "    resolution=1.5)"
   ]
  },
  {
   "cell_type": "code",
   "execution_count": 19,
   "metadata": {},
   "outputs": [
    {
     "name": "stdout",
     "output_type": "stream",
     "text": [
      "num_clusters=62, avg_size=9.85483870967742\n",
      "[1, 17, 22, 1, 1, 16, 1, 1, 12, 26, 1, 1, 15, 21, 1, 1, 36, 26, 51, 1, 1, 19, 1, 1, 1, 1, 1, 1, 1, 1, 1, 1, 1, 102, 15, 10, 1, 1, 1, 1, 27, 1, 1, 1, 1, 1, 5, 36, 1, 1, 1, 1, 1, 62, 21, 1, 11, 20, 1, 1, 1, 1]\n",
      "num_clusters=78, avg_size=14.282051282051283\n",
      "[1, 2, 1, 30, 1, 1, 52, 12, 1, 35, 1, 1, 1, 37, 1, 34, 1, 1, 1, 50, 44, 1, 15, 1, 1, 51, 1, 1, 1, 1, 1, 1, 31, 18, 25, 1, 33, 1, 32, 21, 51, 1, 1, 53, 1, 1, 1, 1, 26, 19, 1, 34, 56, 1, 22, 1, 1, 44, 24, 1, 1, 1, 1, 20, 1, 1, 1, 57, 20, 1, 1, 30, 1, 1, 39, 1, 51, 1]\n",
      "num_clusters=35, avg_size=14.657142857142857\n",
      "[1, 1, 18, 18, 21, 1, 51, 1, 59, 1, 1, 1, 70, 4, 1, 17, 2, 28, 27, 23, 23, 28, 2, 12, 16, 4, 1, 1, 1, 1, 1, 32, 18, 1, 26]\n",
      "num_clusters=257, avg_size=3.6342412451361867\n",
      "[3, 2, 1, 1, 1, 1, 1, 1, 1, 1, 36, 1, 1, 1, 1, 1, 1, 1, 1, 32, 1, 1, 42, 1, 1, 1, 1, 49, 1, 1, 1, 1, 1, 1, 1, 2, 1, 1, 15, 1, 32, 1, 2, 1, 1, 1, 1, 1, 1, 1, 1, 17, 1, 38, 1, 1, 1, 1, 1, 1, 1, 1, 1, 1, 1, 1, 1, 1, 1, 1, 1, 1, 1, 2, 17, 1, 1, 1, 10, 1, 1, 1, 1, 1, 1, 2, 1, 1, 1, 1, 1, 1, 1, 1, 1, 1, 1, 1, 1, 1, 1, 1, 1, 1, 1, 1, 1, 1, 2, 2, 1, 1, 1, 1, 2, 1, 1, 1, 1, 1, 1, 1, 1, 1, 1, 1, 1, 2, 1, 1, 1, 1, 1, 1, 1, 1, 1, 1, 1, 1, 18, 1, 1, 1, 1, 1, 1, 1, 2, 1, 1, 1, 1, 1, 1, 1, 1, 1, 1, 1, 2, 1, 1, 1, 53, 1, 1, 1, 1, 1, 1, 1, 1, 1, 1, 1, 1, 1, 30, 1, 1, 1, 1, 1, 1, 2, 1, 1, 1, 1, 1, 1, 1, 1, 1, 1, 1, 1, 2, 1, 2, 1, 1, 1, 2, 1, 1, 1, 1, 16, 1, 1, 1, 22, 1, 1, 34, 1, 1, 1, 13, 1, 1, 1, 1, 1, 2, 44, 1, 1, 1, 1, 1, 1, 1, 1, 1, 1, 1, 1, 1, 1, 1, 1, 1, 81, 1, 1, 2, 1, 1, 1, 29, 3, 49, 1, 1]\n"
     ]
    }
   ],
   "source": [
    "check_louvain(mitochondrial_communities)\n",
    "check_louvain(cytoplasm_communities)\n",
    "check_louvain(nucleus_communities)\n",
    "check_louvain(membrane_communities)"
   ]
  },
  {
   "cell_type": "code",
   "execution_count": 20,
   "metadata": {},
   "outputs": [
    {
     "name": "stdout",
     "output_type": "stream",
     "text": [
      "27\n",
      "53\n",
      "53\n",
      "18\n"
     ]
    }
   ],
   "source": [
    "# We check the size of the community with each studied protein\n",
    "result_louvain = mitochondrial_communities + cytoplasm_communities \\\n",
    "    + nucleus_communities + membrane_communities\n",
    "\n",
    "for protein in studied_proteins.values():\n",
    "    community = tuple()\n",
    "    for curr_community in result_louvain:\n",
    "        if protein in curr_community:\n",
    "            community = curr_community\n",
    "            break\n",
    "    print(len(community))\n"
   ]
  },
  {
   "cell_type": "code",
   "execution_count": 21,
   "metadata": {},
   "outputs": [],
   "source": [
    "# From above, we are safe to remove all communities with only a single node\n",
    "result_louvain = [comm for comm in result_louvain if len(comm) > 1]"
   ]
  },
  {
   "cell_type": "code",
   "execution_count": 22,
   "metadata": {},
   "outputs": [
    {
     "name": "stdout",
     "output_type": "stream",
     "text": [
      "num_clusters=114, avg_size=25.035087719298247\n",
      "[17, 22, 16, 12, 26, 15, 21, 36, 26, 51, 19, 102, 15, 10, 27, 5, 36, 62, 21, 11, 20, 2, 30, 52, 12, 35, 37, 34, 50, 44, 15, 51, 31, 18, 25, 33, 32, 21, 51, 53, 26, 19, 34, 56, 22, 44, 24, 20, 57, 20, 30, 39, 51, 18, 18, 21, 51, 59, 70, 4, 17, 2, 28, 27, 23, 23, 28, 2, 12, 16, 4, 32, 18, 26, 3, 2, 36, 32, 42, 49, 2, 15, 32, 2, 17, 38, 2, 17, 10, 2, 2, 2, 2, 2, 18, 2, 2, 53, 30, 2, 2, 2, 2, 16, 22, 34, 13, 2, 44, 81, 2, 29, 3, 49]\n"
     ]
    }
   ],
   "source": [
    "check_louvain(result_louvain)"
   ]
  },
  {
   "cell_type": "code",
   "execution_count": 23,
   "metadata": {},
   "outputs": [],
   "source": [
    "G2 = nx.DiGraph()\n",
    "for community in result_louvain:\n",
    "    G2.add_node(tuple(community))\n",
    "\n",
    "node_to_community = {}\n",
    "for i, community in enumerate(result_louvain):\n",
    "    node_to_community.update(dict.fromkeys(community, i))\n",
    "\n",
    "\n",
    "adjacency = [[0] * len(result_louvain) for _ in range(len(result_louvain))]\n",
    "\n",
    "direction = {\n",
    "    'mitochondria': {'cytoplasm', 'mitochondria'},\n",
    "    'cytoplasm': {'nucleus', 'mitochondria', 'cytoplasm'},\n",
    "    'nucleus': {'nucleus'},\n",
    "    'membrane': {'mitochondria', 'membrane'}\n",
    "}\n",
    "\n",
    "\n",
    "for edge in G0.edges:\n",
    "    if edge[0] in node_to_community and edge[1] in node_to_community:\n",
    "\n",
    "        if G0.nodes[edge[1]]['location'] in direction[G0.nodes[edge[0]]['location']]:\n",
    "            adjacency[node_to_community[edge[0]]][node_to_community[edge[1]]] += 1\n",
    "        if G0.nodes[edge[0]]['location'] in direction[G0.nodes[edge[1]]['location']]:\n",
    "            adjacency[node_to_community[edge[1]]][node_to_community[edge[0]]] += 1\n",
    "\n",
    "for i in range(len(result_louvain)):\n",
    "    for j in range(len(result_louvain)):\n",
    "        if i != j and adjacency[i][j] > 0:\n",
    "            G2.add_edge(tuple(result_louvain[i]), tuple(result_louvain[j]), \n",
    "                weight=adjacency[i][j]/(len(result_louvain[i]) + len(result_louvain[j])))\n",
    "            # G2.add_edge(tuple(result_louvain[i]), tuple(result_louvain[j]), weight=adjacency[i][j])\n"
   ]
  },
  {
   "cell_type": "code",
   "execution_count": 24,
   "metadata": {},
   "outputs": [],
   "source": [
    "community_to_index = {}\n",
    "for i, community in enumerate(result_louvain):\n",
    "    community_to_index[tuple(community)] = i"
   ]
  },
  {
   "cell_type": "code",
   "execution_count": 25,
   "metadata": {},
   "outputs": [
    {
     "name": "stdout",
     "output_type": "stream",
     "text": [
      "2.7280701754385963\n"
     ]
    }
   ],
   "source": [
    "print(sum(adjacency[0])/len(adjacency[0]))"
   ]
  },
  {
   "cell_type": "code",
   "execution_count": 26,
   "metadata": {},
   "outputs": [
    {
     "data": {
      "image/png": "[encoded data removed]",
      "text/plain": [
       "<Figure size 432x288 with 1 Axes>"
      ]
     },
     "metadata": {},
     "output_type": "display_data"
    }
   ],
   "source": [
    "weights = [G2[u][v]['weight']/100 for u,v in G2.edges]\n",
    "nx.draw(G2,node_size = 20, pos=nx.spring_layout(G2, weight='weight'))"
   ]
  },
  {
   "cell_type": "code",
   "execution_count": 27,
   "metadata": {},
   "outputs": [
    {
     "name": "stdout",
     "output_type": "stream",
     "text": [
      "14\n",
      "97\n",
      "39\n",
      "72\n"
     ]
    }
   ],
   "source": [
    "studied_communities = {}\n",
    "for key, value in studied_proteins.items():\n",
    "    print(node_to_community[value])\n",
    "    studied_communities[key] = tuple(result_louvain[node_to_community[value]])"
   ]
  },
  {
   "cell_type": "code",
   "execution_count": 28,
   "metadata": {},
   "outputs": [],
   "source": [
    "# Setup for widest bottleneck path\n",
    "import networkx.algorithms.shortest_paths as nx_path\n",
    "\n",
    "class Widest_Add():\n",
    "    def __init__(self, width):\n",
    "        self.width = width\n",
    "    def __add__(self, other):\n",
    "        # maybe put a check that other has class Widest_Add. But shouldn't need.\n",
    "        if isinstance(other, int):\n",
    "            return Widest_Add(max(self.width, other))\n",
    "        return Widest_Add(max(self.width, other.width))\n",
    "    def __radd__(self, other):\n",
    "        # maybe put a check that other has class Widest_Add. But shouldn't need.\n",
    "        if isinstance(other, int):\n",
    "            return Widest_Add(max(self.width, other))\n",
    "        return Widest_Add(max(self.width, other.width)) \n",
    "    def __le__(self, other):\n",
    "        if isinstance(other, int):\n",
    "            other = Widest_Add(other)\n",
    "        return self.width <= other.width\n",
    "    def __lt__(self, other):\n",
    "        if isinstance(other, int):\n",
    "            other = Widest_Add(other)\n",
    "        return self.width < other.width\n",
    "    def __eq__(self, other):\n",
    "        if isinstance(other, int):\n",
    "            other = Widest_Add(other)\n",
    "        return self.width == other.width\n",
    "\n",
    "def widest_weight(node1, node2, datadict):\n",
    "    return Widest_Add(1/datadict['weight'])\n",
    "\n",
    "def widest_weight2(node1, node2, datadict):\n",
    "    return Widest_Add(datadict['weight'])\n",
    "\n"
   ]
  },
  {
   "cell_type": "code",
   "execution_count": 29,
   "metadata": {},
   "outputs": [],
   "source": [
    "def get_repr_candidate(prev, curr, next):\n",
    "    candidates = set(curr)\n",
    "\n",
    "    left = set()\n",
    "    for node in prev:\n",
    "        left |= set(G0[node])\n",
    "    right = set()\n",
    "    for node in next:\n",
    "        right |= set(G0[node])\n",
    "    return candidates & left & right"
   ]
  },
  {
   "cell_type": "code",
   "execution_count": 30,
   "metadata": {},
   "outputs": [],
   "source": [
    "def get_representative_node(prev, curr, next):\n",
    "    subgraph = G0.subgraph(list(prev) + list(curr) + list(next))\n",
    "    betCent = nx.betweenness_centrality(subgraph, normalized=True, endpoints=True)\n",
    "\n",
    "    comm_nodes = [(n, betCent[n]) for n in curr]\n",
    "    comm_nodes.sort(key=lambda x: x[1], reverse=True)\n",
    "\n",
    "    reps = get_repr_candidate(prev, curr, next)\n",
    "    for node, _ in comm_nodes:\n",
    "        if node in reps:\n",
    "            print('hit', node)\n",
    "            return node\n",
    "\n",
    "    central_node = comm_nodes[0][0]\n",
    "    print('miss', central_node)\n",
    "    return central_node"
   ]
  },
  {
   "cell_type": "code",
   "execution_count": 31,
   "metadata": {},
   "outputs": [],
   "source": [
    "def try_process_old(start, end):\n",
    "    widest_path = nx_path.dijkstra_path(G2, \n",
    "        studied_communities[start], \n",
    "        studied_communities[end], \n",
    "        widest_weight)\n",
    "    widest_path2 = nx_path.dijkstra_path(G2, \n",
    "        studied_communities[start], \n",
    "        studied_communities[end], \n",
    "        widest_weight2)\n",
    "    # print(len(widest_path))\n",
    "    widest_path_edges = []\n",
    "    for i in range(len(widest_path) - 1):\n",
    "        u,v = widest_path[i], widest_path[i+1]\n",
    "        widest_path_edges.append((community_to_index[u], community_to_index[v], G2[u][v]['weight']))\n",
    "\n",
    "    # print(len(widest_path2))\n",
    "    widest_path_edges2 = []\n",
    "    for i in range(len(widest_path2) - 1):\n",
    "        u,v = widest_path2[i], widest_path2[i+1]\n",
    "        widest_path_edges2.append((community_to_index[u], community_to_index[v], G2[u][v]['weight']))\n",
    "    # print(widest_path_edges)\n",
    "    # print(widest_path_edges2)\n",
    "\n",
    "    centers = []\n",
    "    path_elems = [[studied_proteins[start]]] + widest_path + [[studied_proteins[end]]]\n",
    "    for i, community in enumerate(widest_path):\n",
    "        c = get_representative_node(path_elems[i], community, path_elems[i+2])\n",
    "        centers.append(c)\n",
    "\n",
    "\n",
    "    print(centers)\n",
    "    print(list(map(common_name.get, centers)))\n",
    "    return start, list(map(common_name.get, centers)), end"
   ]
  },
  {
   "cell_type": "code",
   "execution_count": 32,
   "metadata": {},
   "outputs": [
    {
     "name": "stdout",
     "output_type": "stream",
     "text": [
      "hit 4932.YBL099W\n",
      "hit 4932.YEL024W\n",
      "hit 4932.YLL041C\n",
      "hit 4932.YLR304C\n",
      "hit 4932.YLR134W\n",
      "hit 4932.YOR374W\n",
      "hit 4932.YLR178C\n",
      "hit 4932.YML028W\n",
      "hit 4932.YAL005C\n",
      "hit 4932.YER110C\n",
      "['4932.YBL099W', '4932.YEL024W', '4932.YLL041C', '4932.YLR304C', '4932.YLR134W', '4932.YOR374W', '4932.YLR178C', '4932.YML028W', '4932.YAL005C', '4932.YER110C']\n",
      "['ATP1', 'RIP1', 'SDH2', 'ACO1', 'PDC5', 'ALD4', 'TFS1', 'TSA1', 'SSA1', 'KAP123']\n",
      "DIC1\n",
      "ATP1\n",
      "RIP1\n",
      "SDH2\n",
      "ACO1\n",
      "PDC5\n",
      "ALD4\n",
      "TFS1\n",
      "TSA1\n",
      "SSA1\n",
      "KAP123\n",
      "CBF5\n",
      "hit 4932.YBL099W\n",
      "hit 4932.YEL024W\n",
      "hit 4932.YLL041C\n",
      "hit 4932.YLR304C\n",
      "miss 4932.YLL039C\n",
      "hit 4932.YOL090W\n",
      "hit 4932.YBL088C\n",
      "['4932.YBL099W', '4932.YEL024W', '4932.YLL041C', '4932.YLR304C', '4932.YLL039C', '4932.YOL090W', '4932.YBL088C']\n",
      "['ATP1', 'RIP1', 'SDH2', 'ACO1', 'UBI4', 'MSH2', 'TEL1']\n",
      "DIC1\n",
      "ATP1\n",
      "RIP1\n",
      "SDH2\n",
      "ACO1\n",
      "UBI4\n",
      "MSH2\n",
      "TEL1\n",
      "EST2\n",
      "miss 4932.YGL167C\n",
      "hit 4932.YLR342W\n",
      "hit 4932.YLL013C\n",
      "hit 4932.YMR217W\n",
      "['4932.YGL167C', '4932.YLR342W', '4932.YLL013C', '4932.YMR217W']\n",
      "['PMR1', 'FKS1', 'PUF3', 'GUA1']\n",
      "RGT2\n",
      "PMR1\n",
      "FKS1\n",
      "PUF3\n",
      "GUA1\n",
      "CBF5\n",
      "miss 4932.YGL167C\n",
      "hit 4932.YLR342W\n",
      "hit 4932.YDL156W\n",
      "hit 4932.YLR233C\n",
      "['4932.YGL167C', '4932.YLR342W', '4932.YDL156W', '4932.YLR233C']\n",
      "['PMR1', 'FKS1', 'CMR1', 'EST1']\n",
      "RGT2\n",
      "PMR1\n",
      "FKS1\n",
      "CMR1\n",
      "EST1\n",
      "EST2\n"
     ]
    }
   ],
   "source": [
    "for start in ['DIC1', 'RGT2']:\n",
    "    for end in ['CBF5', 'EST2']:\n",
    "        try:\n",
    "            _, path, _ = try_process_old(start, end)\n",
    "            print(start, *path, end, sep='\\n')\n",
    "        except nx.NetworkXNoPath:\n",
    "            print(f'no path from {start} to {end}')"
   ]
  },
  {
   "cell_type": "code",
   "execution_count": 33,
   "metadata": {},
   "outputs": [],
   "source": [
    "GX = nx.DiGraph()\n",
    "for edge in G0.edges:\n",
    "    if G0.nodes[edge[1]]['location'] in direction[G0.nodes[edge[0]]['location']]:\n",
    "        GX.add_edge(edge[0], edge[1])\n",
    "    if G0.nodes[edge[0]]['location'] in direction[G0.nodes[edge[1]]['location']]:\n",
    "        GX.add_edge(edge[1], edge[0])"
   ]
  },
  {
   "cell_type": "code",
   "execution_count": 34,
   "metadata": {},
   "outputs": [
    {
     "name": "stdout",
     "output_type": "stream",
     "text": [
      "DIC1\n",
      "PUF3\n",
      "CBF5\n",
      "\n",
      "1\n",
      "DIC1\n",
      "PUF3\n",
      "HEK2\n",
      "EST2\n",
      "\n",
      "6\n",
      "RGT2\n",
      "GPR1\n",
      "RAS2\n",
      "PUF3\n",
      "CBF5\n",
      "\n",
      "4\n",
      "RGT2\n",
      "GPR1\n",
      "RAS2\n",
      "PUF3\n",
      "HEK2\n",
      "EST2\n",
      "\n",
      "22\n"
     ]
    }
   ],
   "source": [
    "for start in ['DIC1', 'RGT2']:\n",
    "    for end in ['CBF5', 'EST2']:\n",
    "        try:\n",
    "            print('\\n'.join(list(map(common_name.get, nx_path.shortest_path(GX, \n",
    "            studied_proteins[start], \n",
    "            studied_proteins[end])))),end='\\n\\n')\n",
    "            print(len(list(nx_path.all_shortest_paths(GX, \n",
    "            studied_proteins[start], \n",
    "            studied_proteins[end]))))\n",
    "        except:\n",
    "            print('fail', start, end)\n"
   ]
  },
  {
   "cell_type": "code",
   "execution_count": 35,
   "metadata": {},
   "outputs": [],
   "source": [
    "import collections\n",
    "import itertools"
   ]
  },
  {
   "cell_type": "code",
   "execution_count": 44,
   "metadata": {},
   "outputs": [],
   "source": [
    "def get_paths(start, end, func, min_count=1, **kwargs):\n",
    "    paths = list(func(GX, \n",
    "            studied_proteins[start], \n",
    "            studied_proteins[end], **kwargs))\n",
    "    all_occurrences = collections.Counter(itertools.chain.from_iterable(paths))\n",
    "    return (p for p in paths if min(set(map(all_occurrences.get, p))) > min_count)"
   ]
  },
  {
   "cell_type": "code",
   "execution_count": 37,
   "metadata": {},
   "outputs": [],
   "source": [
    "def print_paths(start, end, func, reverse=False, **kwargs):\n",
    "    out = lambda x: ', '.join(map(common_name.get, x))\n",
    "    if reverse:\n",
    "        out = lambda x: ', '.join(reversed(list(map(common_name.get, x))))\n",
    "    print('\\n'.join(sorted(map(out, get_paths(start, end, func, **kwargs)))))"
   ]
  },
  {
   "cell_type": "code",
   "execution_count": 38,
   "metadata": {},
   "outputs": [
    {
     "name": "stdout",
     "output_type": "stream",
     "text": [
      "EST2, CBF5, PUF3, HXT3, SNF3, RGT2\n",
      "EST2, CBF5, PUF3, PEX13, SNF3, RGT2\n",
      "EST2, CBF5, PUF3, RAS2, GPR1, RGT2\n",
      "EST2, CBF5, PUF3, YOR1, BPT1, RGT2\n",
      "EST2, HEK2, PUF3, HXT3, SNF3, RGT2\n",
      "EST2, HEK2, PUF3, PEX13, SNF3, RGT2\n",
      "EST2, HEK2, PUF3, RAS2, GPR1, RGT2\n",
      "EST2, HEK2, PUF3, YOR1, BPT1, RGT2\n",
      "EST2, NAB6, PUF3, HXT3, SNF3, RGT2\n",
      "EST2, NAB6, PUF3, PEX13, SNF3, RGT2\n",
      "EST2, NAB6, PUF3, RAS2, GPR1, RGT2\n",
      "EST2, NAB6, PUF3, YOR1, BPT1, RGT2\n",
      "EST2, PUB1, PUF3, HXT3, SNF3, RGT2\n",
      "EST2, PUB1, PUF3, PEX13, SNF3, RGT2\n",
      "EST2, PUB1, PUF3, RAS2, GPR1, RGT2\n",
      "EST2, PUB1, PUF3, YOR1, BPT1, RGT2\n",
      "EST2, TOR1, YPT7, YOR1, BPT1, RGT2\n"
     ]
    }
   ],
   "source": [
    "print_paths('RGT2', 'EST2', nx_path.all_shortest_paths, reverse=True)"
   ]
  },
  {
   "cell_type": "code",
   "execution_count": 46,
   "metadata": {},
   "outputs": [
    {
     "data": {
      "text/plain": [
       "78996"
      ]
     },
     "execution_count": 46,
     "metadata": {},
     "output_type": "execute_result"
    }
   ],
   "source": [
    "sum(map(lambda x: 1, get_paths('DIC1', 'CBF5', nx.algorithms.simple_paths.all_simple_paths, cutoff=5, min_count=100)))"
   ]
  },
  {
   "cell_type": "code",
   "execution_count": 40,
   "metadata": {},
   "outputs": [
    {
     "name": "stdout",
     "output_type": "stream",
     "text": [
      "DIC1, ATP1, AAC1, CBF5\n",
      "DIC1, ATP1, AAC3, CBF5\n",
      "DIC1, ATP1, CAF20, CBF5\n",
      "DIC1, ATP1, PUF3, CBF5\n",
      "DIC1, ATP1, TUF1, CBF5\n",
      "DIC1, MIC60, AAC1, CBF5\n",
      "DIC1, MIC60, AAC3, CBF5\n",
      "DIC1, PUF3, CAF20, CBF5\n",
      "DIC1, PUF3, CBF5\n",
      "DIC1, PUF3, GUA1, CBF5\n",
      "DIC1, PUF3, HEK2, CBF5\n",
      "DIC1, PUF3, LIA1, CBF5\n",
      "DIC1, PUF3, TUF1, CBF5\n",
      "DIC1, RIP1, PUF3, CBF5\n",
      "DIC1, RIP1, TUF1, CBF5\n",
      "DIC1, URA1, GUA1, CBF5\n",
      "DIC1, URA1, LIA1, CBF5\n"
     ]
    }
   ],
   "source": [
    "print_paths('DIC1', 'CBF5', nx.algorithms.simple_paths.all_simple_paths, cutoff=3)"
   ]
  },
  {
   "cell_type": "code",
   "execution_count": null,
   "metadata": {},
   "outputs": [],
   "source": []
  }
 ],
 "metadata": {
  "kernelspec": {
   "display_name": "Python 3.8.10 64-bit",
   "language": "python",
   "name": "python3"
  },
  "language_info": {
   "codemirror_mode": {
    "name": "ipython",
    "version": 3
   },
   "file_extension": ".py",
   "mimetype": "text/x-python",
   "name": "python",
   "nbconvert_exporter": "python",
   "pygments_lexer": "ipython3",
   "version": "3.8.10"
  },
  "orig_nbformat": 4,
  "vscode": {
   "interpreter": {
    "hash": "e7370f93d1d0cde622a1f8e1c04877d8463912d04d973331ad4851f04de6915a"
   }
  }
 },
 "nbformat": 4,
 "nbformat_minor": 2
}
