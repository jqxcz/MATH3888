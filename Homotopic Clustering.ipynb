{
 "cells": [
  {
   "cell_type": "markdown",
   "id": "b7e6539c",
   "metadata": {},
   "source": [
    "## Import Packages"
   ]
  },
  {
   "cell_type": "code",
   "execution_count": 2,
   "id": "ee9edb13",
   "metadata": {},
   "outputs": [],
   "source": [
    "import networkx as nx\n",
    "from sklearn.cluster import SpectralClustering\n",
    "from sklearn.cluster import KMeans\n",
    "import sklearn.metrics\n",
    "from sklearn.metrics import silhouette_score\n",
    "\n",
    "import pandas as pd\n",
    "import numpy as np\n",
    "import scipy as sp\n",
    "\n",
    "import matplotlib as mpl\n",
    "import matplotlib.pyplot as plt\n",
    "%matplotlib inline \n",
    "\n",
    "\n",
    "from collections import Counter\n",
    "\n",
    "import networkx.algorithms.community as nx_comm\n",
    "import networkx.algorithms.flow as nx_flow\n",
    "import networkx.algorithms.shortest_paths as nx_path\n",
    "\n",
    "import collections\n",
    "import itertools"
   ]
  },
  {
   "cell_type": "markdown",
   "id": "5eae4ab9",
   "metadata": {},
   "source": [
    "## Read in and Clean Data"
   ]
  },
  {
   "cell_type": "code",
   "execution_count": 3,
   "id": "a653ed88",
   "metadata": {},
   "outputs": [],
   "source": [
    "studied_proteins = {\n",
    "    'DIC1': '4932.YLR348C',\n",
    "    'RGT2': '4932.YDL138W',\n",
    "    'CBF5': '4932.YLR175W',\n",
    "    'EST2': '4932.YLR318W'\n",
    "}"
   ]
  },
  {
   "cell_type": "code",
   "execution_count": 4,
   "id": "bbad71e5",
   "metadata": {},
   "outputs": [],
   "source": [
    "# Generate common name for yeast proteins\n",
    "temp_df = pd.read_table(\"4932.protein.info.v11.5.txt\",delimiter='\\t')\n",
    "common_name = dict(temp_df.iloc[:,:2].values)"
   ]
  },
  {
   "cell_type": "code",
   "execution_count": 5,
   "id": "94bf3369",
   "metadata": {},
   "outputs": [],
   "source": [
    "# Read in essential node data\n",
    "essential_df = pd.read_csv('essential.csv', header=None)"
   ]
  },
  {
   "cell_type": "code",
   "execution_count": 6,
   "id": "c0d5924f",
   "metadata": {},
   "outputs": [],
   "source": [
    "# Read in preprocessed uniprot data\n",
    "uniprot_df = pd.read_csv('uniprot_processed.csv')"
   ]
  },
  {
   "cell_type": "code",
   "execution_count": 7,
   "id": "45c2f25d",
   "metadata": {},
   "outputs": [],
   "source": [
    "# Read in dataframe for detailed protein links\n",
    "G_dataframe = pd.read_table(\"4932.protein.links.detailed.v11.5.txt\",delimiter=' ')"
   ]
  },
  {
   "cell_type": "code",
   "execution_count": 8,
   "id": "7047d428",
   "metadata": {},
   "outputs": [],
   "source": [
    "# Reweight edges of protein links\n",
    "keep_columns = [\n",
    "    'neighborhood', 'fusion', 'cooccurence', \n",
    "    'coexpression', 'experimental', 'database', \n",
    "    'textmining'\n",
    "]\n",
    "\n",
    "# Double weight of experimental evidence\n",
    "G_dataframe['experimental'] *= 2\n",
    "\n",
    "# Half weight of textmining\n",
    "G_dataframe['textmining'] //=2\n",
    "\n",
    "# Calculate combined score\n",
    "G_dataframe.combined_score = G_dataframe[keep_columns].max(axis=1)\n",
    "\n",
    "# Drop edges with combined score of zero\n",
    "G_dataframe = G_dataframe.drop(G_dataframe[G_dataframe.combined_score == 0].index)"
   ]
  },
  {
   "cell_type": "code",
   "execution_count": 9,
   "id": "000d1caf",
   "metadata": {},
   "outputs": [],
   "source": [
    "# Drop edges with combined score of <= threshold score\n",
    "threshold_score = 600\n",
    "G_dataframe = G_dataframe.drop(\n",
    "    G_dataframe[G_dataframe.combined_score <= threshold_score].index\n",
    "    )"
   ]
  },
  {
   "cell_type": "code",
   "execution_count": 10,
   "id": "96f050d0",
   "metadata": {},
   "outputs": [
    {
     "data": {
      "text/html": [
       "<div>\n",
       "<style scoped>\n",
       "    .dataframe tbody tr th:only-of-type {\n",
       "        vertical-align: middle;\n",
       "    }\n",
       "\n",
       "    .dataframe tbody tr th {\n",
       "        vertical-align: top;\n",
       "    }\n",
       "\n",
       "    .dataframe thead th {\n",
       "        text-align: right;\n",
       "    }\n",
       "</style>\n",
       "<table border=\"1\" class=\"dataframe\">\n",
       "  <thead>\n",
       "    <tr style=\"text-align: right;\">\n",
       "      <th></th>\n",
       "      <th>protein1</th>\n",
       "      <th>protein2</th>\n",
       "      <th>neighborhood</th>\n",
       "      <th>fusion</th>\n",
       "      <th>cooccurence</th>\n",
       "      <th>coexpression</th>\n",
       "      <th>experimental</th>\n",
       "      <th>database</th>\n",
       "      <th>textmining</th>\n",
       "      <th>combined_score</th>\n",
       "    </tr>\n",
       "  </thead>\n",
       "  <tbody>\n",
       "    <tr>\n",
       "      <th>67</th>\n",
       "      <td>4932.Q0045</td>\n",
       "      <td>4932.YML120C</td>\n",
       "      <td>0</td>\n",
       "      <td>0</td>\n",
       "      <td>0</td>\n",
       "      <td>0</td>\n",
       "      <td>0</td>\n",
       "      <td>900</td>\n",
       "      <td>55</td>\n",
       "      <td>900</td>\n",
       "    </tr>\n",
       "    <tr>\n",
       "      <th>71</th>\n",
       "      <td>4932.Q0045</td>\n",
       "      <td>4932.YOR257W</td>\n",
       "      <td>0</td>\n",
       "      <td>0</td>\n",
       "      <td>0</td>\n",
       "      <td>0</td>\n",
       "      <td>630</td>\n",
       "      <td>0</td>\n",
       "      <td>0</td>\n",
       "      <td>630</td>\n",
       "    </tr>\n",
       "    <tr>\n",
       "      <th>73</th>\n",
       "      <td>4932.Q0045</td>\n",
       "      <td>4932.YPL172C</td>\n",
       "      <td>155</td>\n",
       "      <td>0</td>\n",
       "      <td>370</td>\n",
       "      <td>499</td>\n",
       "      <td>630</td>\n",
       "      <td>0</td>\n",
       "      <td>419</td>\n",
       "      <td>630</td>\n",
       "    </tr>\n",
       "    <tr>\n",
       "      <th>75</th>\n",
       "      <td>4932.Q0045</td>\n",
       "      <td>4932.YGR033C</td>\n",
       "      <td>0</td>\n",
       "      <td>0</td>\n",
       "      <td>0</td>\n",
       "      <td>0</td>\n",
       "      <td>702</td>\n",
       "      <td>0</td>\n",
       "      <td>0</td>\n",
       "      <td>702</td>\n",
       "    </tr>\n",
       "    <tr>\n",
       "      <th>80</th>\n",
       "      <td>4932.Q0045</td>\n",
       "      <td>4932.YKL192C</td>\n",
       "      <td>0</td>\n",
       "      <td>0</td>\n",
       "      <td>0</td>\n",
       "      <td>49</td>\n",
       "      <td>1060</td>\n",
       "      <td>0</td>\n",
       "      <td>116</td>\n",
       "      <td>1060</td>\n",
       "    </tr>\n",
       "    <tr>\n",
       "      <th>...</th>\n",
       "      <td>...</td>\n",
       "      <td>...</td>\n",
       "      <td>...</td>\n",
       "      <td>...</td>\n",
       "      <td>...</td>\n",
       "      <td>...</td>\n",
       "      <td>...</td>\n",
       "      <td>...</td>\n",
       "      <td>...</td>\n",
       "      <td>...</td>\n",
       "    </tr>\n",
       "    <tr>\n",
       "      <th>1988527</th>\n",
       "      <td>4932.YPR203W</td>\n",
       "      <td>4932.YER189W</td>\n",
       "      <td>0</td>\n",
       "      <td>0</td>\n",
       "      <td>0</td>\n",
       "      <td>872</td>\n",
       "      <td>0</td>\n",
       "      <td>0</td>\n",
       "      <td>0</td>\n",
       "      <td>872</td>\n",
       "    </tr>\n",
       "    <tr>\n",
       "      <th>1988542</th>\n",
       "      <td>4932.YPR204W</td>\n",
       "      <td>4932.YPR018W</td>\n",
       "      <td>0</td>\n",
       "      <td>0</td>\n",
       "      <td>0</td>\n",
       "      <td>0</td>\n",
       "      <td>840</td>\n",
       "      <td>0</td>\n",
       "      <td>0</td>\n",
       "      <td>840</td>\n",
       "    </tr>\n",
       "    <tr>\n",
       "      <th>1988553</th>\n",
       "      <td>4932.YPR204W</td>\n",
       "      <td>4932.YBL032W</td>\n",
       "      <td>0</td>\n",
       "      <td>0</td>\n",
       "      <td>0</td>\n",
       "      <td>0</td>\n",
       "      <td>630</td>\n",
       "      <td>0</td>\n",
       "      <td>0</td>\n",
       "      <td>630</td>\n",
       "    </tr>\n",
       "    <tr>\n",
       "      <th>1988565</th>\n",
       "      <td>4932.YPR204W</td>\n",
       "      <td>4932.YNL255C</td>\n",
       "      <td>0</td>\n",
       "      <td>0</td>\n",
       "      <td>0</td>\n",
       "      <td>0</td>\n",
       "      <td>630</td>\n",
       "      <td>0</td>\n",
       "      <td>0</td>\n",
       "      <td>630</td>\n",
       "    </tr>\n",
       "    <tr>\n",
       "      <th>1988570</th>\n",
       "      <td>4932.YPR204W</td>\n",
       "      <td>4932.YBR245C</td>\n",
       "      <td>0</td>\n",
       "      <td>0</td>\n",
       "      <td>0</td>\n",
       "      <td>0</td>\n",
       "      <td>630</td>\n",
       "      <td>0</td>\n",
       "      <td>0</td>\n",
       "      <td>630</td>\n",
       "    </tr>\n",
       "  </tbody>\n",
       "</table>\n",
       "<p>334098 rows × 10 columns</p>\n",
       "</div>"
      ],
      "text/plain": [
       "             protein1      protein2  neighborhood  fusion  cooccurence  \\\n",
       "67         4932.Q0045  4932.YML120C             0       0            0   \n",
       "71         4932.Q0045  4932.YOR257W             0       0            0   \n",
       "73         4932.Q0045  4932.YPL172C           155       0          370   \n",
       "75         4932.Q0045  4932.YGR033C             0       0            0   \n",
       "80         4932.Q0045  4932.YKL192C             0       0            0   \n",
       "...               ...           ...           ...     ...          ...   \n",
       "1988527  4932.YPR203W  4932.YER189W             0       0            0   \n",
       "1988542  4932.YPR204W  4932.YPR018W             0       0            0   \n",
       "1988553  4932.YPR204W  4932.YBL032W             0       0            0   \n",
       "1988565  4932.YPR204W  4932.YNL255C             0       0            0   \n",
       "1988570  4932.YPR204W  4932.YBR245C             0       0            0   \n",
       "\n",
       "         coexpression  experimental  database  textmining  combined_score  \n",
       "67                  0             0       900          55             900  \n",
       "71                  0           630         0           0             630  \n",
       "73                499           630         0         419             630  \n",
       "75                  0           702         0           0             702  \n",
       "80                 49          1060         0         116            1060  \n",
       "...               ...           ...       ...         ...             ...  \n",
       "1988527           872             0         0           0             872  \n",
       "1988542             0           840         0           0             840  \n",
       "1988553             0           630         0           0             630  \n",
       "1988565             0           630         0           0             630  \n",
       "1988570             0           630         0           0             630  \n",
       "\n",
       "[334098 rows x 10 columns]"
      ]
     },
     "execution_count": 10,
     "metadata": {},
     "output_type": "execute_result"
    }
   ],
   "source": [
    "# Sanity check of data\n",
    "\n",
    "G_dataframe"
   ]
  },
  {
   "cell_type": "markdown",
   "id": "f335349e",
   "metadata": {},
   "source": [
    "## Create PPI Network"
   ]
  },
  {
   "cell_type": "code",
   "execution_count": 11,
   "id": "72cfd526",
   "metadata": {},
   "outputs": [],
   "source": [
    "# Create nx graph\n",
    "\n",
    "G = nx.from_pandas_edgelist(G_dataframe, \n",
    "    source='protein1', \n",
    "    target='protein2', \n",
    "    edge_attr=True)"
   ]
  },
  {
   "cell_type": "code",
   "execution_count": 12,
   "id": "428c8f52",
   "metadata": {},
   "outputs": [
    {
     "name": "stdout",
     "output_type": "stream",
     "text": [
      "len(irrelevant_proteins)=1334, len(ribosomal_proteins)=312\n",
      "len(G.nodes)=5912\n",
      "len(G.nodes)=4266\n"
     ]
    }
   ],
   "source": [
    "# Ignore certain nodes in the protein network, and also combine uniprot data\n",
    "# Remove proteins that are not in a location that we are targeting\n",
    "# (we target membrane, mitochrondrial, cytoplasm and nucleus proteins)\n",
    "\n",
    "irrelevant_proteins = []\n",
    "\n",
    "# remove proteins that are ribosomal\n",
    "ribosomal_proteins = []\n",
    "\n",
    "row_index = {}\n",
    "\n",
    "for node in G.nodes:\n",
    "    # Get row index of matching row for a protein\n",
    "    node_name = node.split('.')[1]\n",
    "    node_matches = uniprot_df['Gene Names'].str.contains(node_name).fillna(False)\n",
    "    node_uniprot = uniprot_df.index[node_matches][0]\n",
    "\n",
    "    if uniprot_df['location_match'][node_uniprot] == 0:\n",
    "        irrelevant_proteins.append(node)\n",
    "\n",
    "    elif uniprot_df['ribosomal'][node_uniprot] == True:\n",
    "        ribosomal_proteins.append(node)\n",
    "\n",
    "    else:\n",
    "        row_index[node] = node_uniprot\n",
    "\n",
    "print(f\"{len(irrelevant_proteins)=}, {len(ribosomal_proteins)=}\")\n",
    "print(f\"{len(G.nodes)=}\")\n",
    "G.remove_nodes_from(irrelevant_proteins)\n",
    "G.remove_nodes_from(ribosomal_proteins)\n",
    "print(f\"{len(G.nodes)=}\")"
   ]
  },
  {
   "cell_type": "code",
   "execution_count": 13,
   "id": "5d287412",
   "metadata": {},
   "outputs": [],
   "source": [
    "# Track location of nodes\n",
    "node_location = {}\n",
    "\n",
    "mitochondrial_proteins = set()\n",
    "cytoplasm_proteins = set()\n",
    "membrane_proteins = set()\n",
    "nucleus_proteins = set()\n",
    "\n",
    "for node in G.nodes:\n",
    "    if uniprot_df['mitochon'][row_index[node]] == 1:\n",
    "        node_location[node] = 'mitochondria'\n",
    "        mitochondrial_proteins.add(node)\n",
    "    elif uniprot_df['cytoplasm'][row_index[node]] == 1:\n",
    "        node_location[node] = 'cytoplasm'\n",
    "        cytoplasm_proteins.add(node)\n",
    "    elif uniprot_df['membrane'][row_index[node]] == 1:\n",
    "        node_location[node] = 'membrane'\n",
    "        membrane_proteins.add(node)\n",
    "    elif uniprot_df['nucleus'][row_index[node]] == 1:\n",
    "        node_location[node] = 'nucleus'\n",
    "        nucleus_proteins.add(node)\n",
    "    else:\n",
    "        node_location[node] = 'other'\n",
    "\n",
    "nx.set_node_attributes(G, values=node_location, name='location')"
   ]
  },
  {
   "cell_type": "code",
   "execution_count": 14,
   "id": "0cc48a07",
   "metadata": {},
   "outputs": [
    {
     "name": "stdout",
     "output_type": "stream",
     "text": [
      "len(G.nodes)=4266\n",
      "len(G.nodes)=3271\n"
     ]
    }
   ],
   "source": [
    "# We remove essential proteins, but keep proteins we want to study\n",
    "essential_proteins_raw = essential_df[1].values\n",
    "essential_proteins = set(map(lambda x: '4932.' + x, essential_proteins_raw))\n",
    "essential_proteins -= set(studied_proteins.values())\n",
    "print(f\"{len(G.nodes)=}\")\n",
    "G.remove_nodes_from(list(essential_proteins))\n",
    "print(f\"{len(G.nodes)=}\")"
   ]
  },
  {
   "cell_type": "code",
   "execution_count": 15,
   "id": "d441e581",
   "metadata": {},
   "outputs": [
    {
     "name": "stdout",
     "output_type": "stream",
     "text": [
      "len(G.nodes)=3172\n"
     ]
    }
   ],
   "source": [
    "# Let's only keep the largest connected component\n",
    "largest_component = max(list(nx.connected_components(G)), key=len)\n",
    "G = G.subgraph(largest_component)\n",
    "print(f\"{len(G.nodes)=}\")"
   ]
  },
  {
   "cell_type": "code",
   "execution_count": 16,
   "id": "a700eab9",
   "metadata": {},
   "outputs": [],
   "source": [
    "# Sanity check - \n",
    "#   Check proteins we are interested in are still in the network\n",
    "\n",
    "for key, value in studied_proteins.items():\n",
    "    if value not in G.nodes:\n",
    "        print(f\"ERROR: {key} was deleted from the network!\")"
   ]
  },
  {
   "cell_type": "code",
   "execution_count": 17,
   "id": "18fa3424",
   "metadata": {},
   "outputs": [],
   "source": [
    "direction = {\n",
    "    'mitochondria': {'cytoplasm', 'mitochondria'},\n",
    "    'cytoplasm': {'nucleus', 'mitochondria', 'cytoplasm'},\n",
    "    'nucleus': {'nucleus'},\n",
    "    'membrane': {'mitochondria', 'membrane'}\n",
    "}"
   ]
  },
  {
   "cell_type": "code",
   "execution_count": 18,
   "id": "118bf138",
   "metadata": {},
   "outputs": [],
   "source": [
    "# Give network a direction structure\n",
    "\n",
    "GX = nx.DiGraph()\n",
    "for edge in G.edges:\n",
    "    if G.nodes[edge[1]]['location'] in direction[G.nodes[edge[0]]['location']]:\n",
    "        GX.add_edge(edge[0], edge[1])\n",
    "    if G.nodes[edge[0]]['location'] in direction[G.nodes[edge[1]]['location']]:\n",
    "        GX.add_edge(edge[1], edge[0])"
   ]
  },
  {
   "cell_type": "code",
   "execution_count": 19,
   "id": "acf1399c",
   "metadata": {},
   "outputs": [
    {
     "name": "stdout",
     "output_type": "stream",
     "text": [
      "DIC1\n",
      "PUF3\n",
      "CBF5\n",
      "\n",
      "1\n",
      "DIC1\n",
      "PUF3\n",
      "HEK2\n",
      "EST2\n",
      "\n",
      "6\n",
      "RGT2\n",
      "GPR1\n",
      "RAS2\n",
      "PUF3\n",
      "CBF5\n",
      "\n",
      "4\n",
      "RGT2\n",
      "GPR1\n",
      "RAS2\n",
      "PUF3\n",
      "HEK2\n",
      "EST2\n",
      "\n",
      "22\n"
     ]
    }
   ],
   "source": [
    "# Find shortest path between all pairs of studied Proteins together with number of shortest paths\n",
    "\n",
    "for start in ['DIC1', 'RGT2']:\n",
    "    for end in ['CBF5', 'EST2']:\n",
    "        try:\n",
    "            print('\\n'.join(list(map(common_name.get, nx_path.shortest_path(GX, \n",
    "            studied_proteins[start], \n",
    "            studied_proteins[end])))),end='\\n\\n')\n",
    "            print(len(list(nx_path.all_shortest_paths(GX, \n",
    "            studied_proteins[start], \n",
    "            studied_proteins[end]))))\n",
    "        except:\n",
    "            print('fail', start, end)"
   ]
  },
  {
   "cell_type": "code",
   "execution_count": 20,
   "id": "1dcdfbf1",
   "metadata": {},
   "outputs": [],
   "source": [
    "# Get paths from start to end satisfying a given property\n",
    "\n",
    "def get_paths(start, end, func, **kwargs):\n",
    "    paths = list(func(GX, \n",
    "            studied_proteins[start], \n",
    "            studied_proteins[end], **kwargs))\n",
    "    all_occurrences = collections.Counter(itertools.chain.from_iterable(paths))\n",
    "    return (p for p in paths if 1 not in set(map(all_occurrences.get, p)))"
   ]
  },
  {
   "cell_type": "code",
   "execution_count": 21,
   "id": "7f9b6085",
   "metadata": {},
   "outputs": [],
   "source": [
    "# Print paths of proteins satisfying property\n",
    "\n",
    "def print_paths(start, end, func, reverse=False, **kwargs):\n",
    "    out = lambda x: ', '.join(map(common_name.get, x))\n",
    "    if reverse:\n",
    "        out = lambda x: ', '.join(reversed(list(map(common_name.get, x))))\n",
    "    print('\\n'.join(sorted(map(out, get_paths(start, end, func, **kwargs)))))"
   ]
  },
  {
   "cell_type": "markdown",
   "id": "6a594e96",
   "metadata": {},
   "source": [
    "## Homotopic Clustering"
   ]
  },
  {
   "cell_type": "code",
   "execution_count": null,
   "id": "427b189c",
   "metadata": {},
   "outputs": [],
   "source": []
  },
  {
   "cell_type": "code",
   "execution_count": null,
   "id": "24c6abf6",
   "metadata": {},
   "outputs": [],
   "source": []
  },
  {
   "cell_type": "code",
   "execution_count": null,
   "id": "471b08c1",
   "metadata": {},
   "outputs": [],
   "source": []
  },
  {
   "cell_type": "code",
   "execution_count": null,
   "id": "7b8a769b",
   "metadata": {},
   "outputs": [],
   "source": []
  },
  {
   "cell_type": "code",
   "execution_count": null,
   "id": "4d0d5d87",
   "metadata": {},
   "outputs": [],
   "source": []
  },
  {
   "cell_type": "code",
   "execution_count": null,
   "id": "71c04f95",
   "metadata": {},
   "outputs": [],
   "source": [
    "import math"
   ]
  },
  {
   "cell_type": "code",
   "execution_count": null,
   "id": "0c42e50f",
   "metadata": {},
   "outputs": [],
   "source": [
    "def get_paths(start, end, func, min_count=1, **kwargs):\n",
    "    paths = list(func(GX, \n",
    "            studied_proteins[start], \n",
    "            studied_proteins[end], **kwargs))\n",
    "    all_occurrences = collections.Counter(itertools.chain.from_iterable(paths))\n",
    "    return (p for p in paths if min(set(map(all_occurrences.get, p))) > min_count)"
   ]
  },
  {
   "cell_type": "code",
   "execution_count": 22,
   "id": "fb9b544e",
   "metadata": {},
   "outputs": [],
   "source": [
    "class HomotopyNet:\n",
    "    \n",
    "    def __init__(self, start, end, PPI, pathlength):\n",
    "        self.start = start\n",
    "        self.end = end\n",
    "        self.PPI = PPI\n",
    "        self.pathlength = pathlength\n",
    "        \n",
    "        # paths = nx.algorithms.simple_paths.all_simple_paths(GX, \n",
    "        #     studied_proteins[start], \n",
    "        #     studied_proteins[end], cutoff=pathlength)\n",
    "        #allpaths = [np.array(p) for p in paths]\n",
    "\n",
    "        num = sum(1 for _ in get_paths(start, end, nx.all_simple_paths, min_count=1, cutoff=5))\n",
    "        \n",
    "        pathlist = list(get_paths(start, end, nx.all_simple_paths, \n",
    "            min_count=math.sqrt(num)/2-2, cutoff=5))\n",
    "\n",
    "        # pathlist = list(nx.algorithms.simple_paths.all_simple_paths(GX, \n",
    "        #     studied_proteins[start], \n",
    "        #     studied_proteins[end], cutoff=pathlength))\n",
    "        allpathsets = [set(zip(p[0:-1], p[1:])) for p in pathlist]\n",
    "        \n",
    "        self.pathlist = pathlist\n",
    "        self.allpathsets = allpathsets\n",
    "        self.size = len(pathlist)\n",
    "        \n",
    "        HomotopyG = nx.Graph()\n",
    "        for i, P in enumerate(allpathsets):\n",
    "            for j, Q in enumerate(allpathsets[i+1:], start = i+1):\n",
    "                weight = len(P & Q) / len(P | Q)\n",
    "                if weight > 0:\n",
    "                    HomotopyG.add_edge(i,j, weight = len(P & Q) / len(P | Q))\n",
    "            if i % 100 == 0:\n",
    "                print(i)\n",
    "                    \n",
    "        self.HomotopyG = HomotopyG\n",
    "        self.L = nx.laplacian_matrix(HomotopyG).astype(float)\n",
    "        \n",
    "    def k_Elbow(self):\n",
    "        silhouette_coeffs = []\n",
    "        K = range(2, 11)\n",
    "        \n",
    "        for k in K:\n",
    "            w,v = sp.sparse.linalg.eigsh(self.L, k=k, which = 'SM')\n",
    "            X = v*w\n",
    "            kmeans = KMeans(init=\"k-means++\", n_clusters=k, n_init=10)\n",
    "            kmeans.fit_predict(X)\n",
    "            #centroids = kmeans.cluster_centers_\n",
    "            labels = kmeans.labels_\n",
    "            #error = kmeans.inertia_\n",
    "            score = silhouette_score(X, labels)\n",
    "            silhouette_coeffs.append(score)\n",
    "        #closest = sklearn.metrics.pairwise_distances_argmin(centroids, X)\n",
    "        plt.plot(K, silhouette_coeffs)\n",
    "        \n",
    "    def indices_to_pathname(self, indices):\n",
    "        path_ls = [self.pathlist[i] for i in indices]\n",
    "        return path_ls\n",
    "    \n",
    "    def KMeans_cluster(self, k):\n",
    "        w,v = sp.sparse.linalg.eigsh(self.L, k=k, which = 'SM')\n",
    "        X = v*w\n",
    "        kmeans = KMeans(init=\"k-means++\", n_clusters=k, n_init=10)\n",
    "        kmeans.fit_predict(X)\n",
    "        centroids = kmeans.cluster_centers_\n",
    "        labels = kmeans.labels_\n",
    "        error = kmeans.inertia_\n",
    "        \n",
    "        closest = sklearn.metrics.pairwise_distances_argmin(centroids, X)\n",
    "        \n",
    "        return closest, labels\n",
    "    \n",
    "    def plot(self, alpha, label_true):\n",
    "        edges,weights = zip(*nx.get_edge_attributes(self.HomotopyG,'weight').items())\n",
    "        \n",
    "        #comm_sizes = [len(self.comm_nodes(comm)) for comm in self.comm_list]\n",
    "        #maximum = max(comm_sizes)\n",
    "        #adj_comm_sizes = [10* n / maximum for n in comm_sizes]\n",
    "        colourmap = self.KMeans_cluster(3)[1]\n",
    "        \n",
    "        pos = nx.spring_layout(self.HomotopyG)\n",
    "        nx.draw(self.HomotopyG, pos, node_color=colourmap, edgelist=edges, cmap=plt.cm.CMRmap, alpha = alpha,\n",
    "                edge_color=tuple(map(np.log, weights)), \n",
    "                width=1, edge_cmap=plt.cm.binary, with_labels = label_true)\n",
    "        #plt.colorbar()\n",
    "        plt.savefig(\"Output.png\")\n",
    "        \n",
    "    def Spectral_Cluster(self, k):\n",
    "        clustering = SpectralClustering(k).fit(nx.to_numpy_matrix(self.HomotopyG))\n",
    "        clusters = clustering.fit_predict(nx.to_numpy_matrix(self.HomotopyG), 2)\n",
    "        \n",
    "        centroids = []\n",
    "        for j in range(k):\n",
    "            subG = nx.induced_subgraph(self.HomotopyG, [i for i in self.HomotopyG.nodes if clusters[i] == j])\n",
    "            dic = nx.eigenvector_centrality(subG)\n",
    "            centroids.append(max(dic, key=dic.get))\n",
    "        return centroids, clusters"
   ]
  },
  {
   "cell_type": "code",
   "execution_count": 23,
   "id": "6a31af50",
   "metadata": {},
   "outputs": [],
   "source": [
    "def path_to_proteins(path):\n",
    "    \n",
    "    out = lambda x: ', '.join(map(common_name.get, x))\n",
    "    \n",
    "    print('\\n'.join(sorted(map(out, path))))"
   ]
  },
  {
   "cell_type": "code",
   "execution_count": null,
   "id": "993a79e4",
   "metadata": {},
   "outputs": [],
   "source": []
  },
  {
   "cell_type": "markdown",
   "id": "5fcef7ff",
   "metadata": {},
   "source": [
    "## DIC1 -> EST2"
   ]
  },
  {
   "cell_type": "code",
   "execution_count": 24,
   "id": "71cc858d",
   "metadata": {},
   "outputs": [
    {
     "name": "stdout",
     "output_type": "stream",
     "text": [
      "0\n",
      "100\n",
      "200\n",
      "300\n",
      "400\n",
      "500\n"
     ]
    },
    {
     "name": "stderr",
     "output_type": "stream",
     "text": [
      "<class 'networkx.utils.decorators.argmap'> compilation 12:4: FutureWarning: laplacian_matrix will return a scipy.sparse array instead of a matrix in Networkx 3.0.\n"
     ]
    },
    {
     "data": {
      "text/plain": [
       "563"
      ]
     },
     "execution_count": 24,
     "metadata": {},
     "output_type": "execute_result"
    }
   ],
   "source": [
    "HomNet = HomotopyNet('DIC1', 'EST2', GX, 4)\n",
    "HomNet.size"
   ]
  },
  {
   "cell_type": "code",
   "execution_count": 25,
   "id": "3960016b",
   "metadata": {},
   "outputs": [
    {
     "data": {
      "image/png": "[encoded data removed]",
      "text/plain": [
       "<Figure size 432x288 with 1 Axes>"
      ]
     },
     "metadata": {
      "needs_background": "light"
     },
     "output_type": "display_data"
    }
   ],
   "source": [
    "HomNet.k_Elbow()"
   ]
  },
  {
   "cell_type": "code",
   "execution_count": 26,
   "id": "e09b3a3b",
   "metadata": {},
   "outputs": [
    {
     "name": "stdout",
     "output_type": "stream",
     "text": [
      "DIC1, PUF3, ARC1, LHP1, EST2\n",
      "DIC1, PUF3, RGS2, HEK2, EST2\n",
      "DIC1, URA1, GUA1, HEK2, EST2\n"
     ]
    }
   ],
   "source": [
    "# KMeans\n",
    "k = 3\n",
    "path_to_proteins(HomNet.indices_to_pathname(HomNet.KMeans_cluster(k)[0]))"
   ]
  },
  {
   "cell_type": "code",
   "execution_count": 27,
   "id": "a815493e",
   "metadata": {},
   "outputs": [
    {
     "name": "stderr",
     "output_type": "stream",
     "text": [
      "/home/user/.local/lib/python3.8/site-packages/sklearn/utils/validation.py:727: FutureWarning: np.matrix usage is deprecated in 1.0 and will raise a TypeError in 1.2. Please convert to a numpy array with np.asarray. For more information see: https://numpy.org/doc/stable/reference/generated/numpy.matrix.html\n",
      "  warnings.warn(\n",
      "/home/user/.local/lib/python3.8/site-packages/sklearn/cluster/_spectral.py:658: UserWarning: The spectral clustering API has changed. ``fit``now constructs an affinity matrix from data. To use a custom affinity matrix, set ``affinity=precomputed``.\n",
      "  warnings.warn(\n",
      "/home/user/.local/lib/python3.8/site-packages/sklearn/utils/validation.py:727: FutureWarning: np.matrix usage is deprecated in 1.0 and will raise a TypeError in 1.2. Please convert to a numpy array with np.asarray. For more information see: https://numpy.org/doc/stable/reference/generated/numpy.matrix.html\n",
      "  warnings.warn(\n",
      "/home/user/.local/lib/python3.8/site-packages/sklearn/cluster/_spectral.py:658: UserWarning: The spectral clustering API has changed. ``fit``now constructs an affinity matrix from data. To use a custom affinity matrix, set ``affinity=precomputed``.\n",
      "  warnings.warn(\n"
     ]
    },
    {
     "name": "stdout",
     "output_type": "stream",
     "text": [
      "DIC1, ATP1, PUF3, HEK2, EST2\n",
      "DIC1, PUF3, NAB6, ISW1, EST2\n",
      "DIC1, PUF3, PUB1, HEK2, EST2\n"
     ]
    }
   ],
   "source": [
    "# Spectral\n",
    "k = 3\n",
    "path_to_proteins(HomNet.indices_to_pathname(HomNet.Spectral_Cluster(k)[0]))"
   ]
  },
  {
   "cell_type": "markdown",
   "id": "6bbd922e",
   "metadata": {},
   "source": [
    "## DIC1 -> CBF5"
   ]
  },
  {
   "cell_type": "code",
   "execution_count": 28,
   "id": "44a833fa",
   "metadata": {},
   "outputs": [
    {
     "name": "stdout",
     "output_type": "stream",
     "text": [
      "0\n",
      "100\n",
      "200\n",
      "300\n",
      "400\n",
      "500\n",
      "600\n",
      "700\n",
      "800\n",
      "900\n",
      "1000\n",
      "1100\n",
      "1200\n",
      "1300\n",
      "1400\n",
      "1500\n",
      "1600\n",
      "1700\n",
      "1800\n",
      "1900\n",
      "2000\n",
      "2100\n"
     ]
    },
    {
     "name": "stderr",
     "output_type": "stream",
     "text": [
      "<class 'networkx.utils.decorators.argmap'> compilation 12:4: FutureWarning: laplacian_matrix will return a scipy.sparse array instead of a matrix in Networkx 3.0.\n"
     ]
    },
    {
     "data": {
      "text/plain": [
       "2107"
      ]
     },
     "execution_count": 28,
     "metadata": {},
     "output_type": "execute_result"
    }
   ],
   "source": [
    "HomNet = HomotopyNet('DIC1', 'CBF5', GX, 4)\n",
    "HomNet.size"
   ]
  },
  {
   "cell_type": "code",
   "execution_count": 29,
   "id": "5293333c",
   "metadata": {},
   "outputs": [
    {
     "data": {
      "image/png": "[encoded data removed]",
      "text/plain": [
       "<Figure size 432x288 with 1 Axes>"
      ]
     },
     "metadata": {
      "needs_background": "light"
     },
     "output_type": "display_data"
    }
   ],
   "source": [
    "HomNet.k_Elbow()"
   ]
  },
  {
   "cell_type": "code",
   "execution_count": 30,
   "id": "cb5d3450",
   "metadata": {},
   "outputs": [
    {
     "name": "stdout",
     "output_type": "stream",
     "text": [
      "DIC1, PUF3, CYB5, UBI4, CBF5\n",
      "DIC1, PUF3, STO1, CBC2, CBF5\n",
      "DIC1, PUF3, UPS2, GIS2, CBF5\n",
      "DIC1, URA1, GUA1, CBF5\n",
      "DIC1, URA1, HFA1, GIS2, CBF5\n"
     ]
    }
   ],
   "source": [
    "# KMeans\n",
    "k = 5\n",
    "path_to_proteins(HomNet.indices_to_pathname(HomNet.KMeans_cluster(k)[0]))"
   ]
  },
  {
   "cell_type": "code",
   "execution_count": 31,
   "id": "a69af67e",
   "metadata": {},
   "outputs": [
    {
     "name": "stderr",
     "output_type": "stream",
     "text": [
      "/home/user/.local/lib/python3.8/site-packages/sklearn/utils/validation.py:727: FutureWarning: np.matrix usage is deprecated in 1.0 and will raise a TypeError in 1.2. Please convert to a numpy array with np.asarray. For more information see: https://numpy.org/doc/stable/reference/generated/numpy.matrix.html\n",
      "  warnings.warn(\n",
      "/home/user/.local/lib/python3.8/site-packages/sklearn/cluster/_spectral.py:658: UserWarning: The spectral clustering API has changed. ``fit``now constructs an affinity matrix from data. To use a custom affinity matrix, set ``affinity=precomputed``.\n",
      "  warnings.warn(\n",
      "/home/user/.local/lib/python3.8/site-packages/sklearn/utils/validation.py:727: FutureWarning: np.matrix usage is deprecated in 1.0 and will raise a TypeError in 1.2. Please convert to a numpy array with np.asarray. For more information see: https://numpy.org/doc/stable/reference/generated/numpy.matrix.html\n",
      "  warnings.warn(\n",
      "/home/user/.local/lib/python3.8/site-packages/sklearn/cluster/_spectral.py:658: UserWarning: The spectral clustering API has changed. ``fit``now constructs an affinity matrix from data. To use a custom affinity matrix, set ``affinity=precomputed``.\n",
      "  warnings.warn(\n"
     ]
    },
    {
     "name": "stdout",
     "output_type": "stream",
     "text": [
      "DIC1, ATP1, IDH2, PUF3, CBF5\n",
      "DIC1, PUF3, CAF20, GIS2, CBF5\n",
      "DIC1, PUF3, CBF5\n",
      "DIC1, PUF3, TDH2, CAF20, CBF5\n",
      "DIC1, PUF3, TSR2, GIS2, CBF5\n"
     ]
    }
   ],
   "source": [
    "# Spectral\n",
    "k = 5\n",
    "path_to_proteins(HomNet.indices_to_pathname(HomNet.Spectral_Cluster(k)[0]))"
   ]
  },
  {
   "cell_type": "markdown",
   "id": "6b566a1b",
   "metadata": {},
   "source": [
    "## RGT2 -> EST2"
   ]
  },
  {
   "cell_type": "code",
   "execution_count": 32,
   "id": "bd71bba1",
   "metadata": {},
   "outputs": [
    {
     "name": "stdout",
     "output_type": "stream",
     "text": [
      "0\n"
     ]
    },
    {
     "name": "stderr",
     "output_type": "stream",
     "text": [
      "<class 'networkx.utils.decorators.argmap'> compilation 12:4: FutureWarning: laplacian_matrix will return a scipy.sparse array instead of a matrix in Networkx 3.0.\n"
     ]
    }
   ],
   "source": [
    "HomNet = HomotopyNet('RGT2', 'EST2', GX, 5)"
   ]
  },
  {
   "cell_type": "markdown",
   "id": "99945891",
   "metadata": {},
   "source": [
    "## RGT2 -> CBF5"
   ]
  },
  {
   "cell_type": "code",
   "execution_count": 33,
   "id": "c9ff3c87",
   "metadata": {},
   "outputs": [
    {
     "name": "stdout",
     "output_type": "stream",
     "text": [
      "0\n",
      "100\n"
     ]
    }
   ],
   "source": [
    "HomNet = HomotopyNet('RGT2', 'CBF5', GX, 5)"
   ]
  },
  {
   "cell_type": "code",
   "execution_count": 34,
   "id": "bcf909c8",
   "metadata": {},
   "outputs": [
    {
     "data": {
      "image/png": "[encoded data removed]",
      "text/plain": [
       "<Figure size 432x288 with 1 Axes>"
      ]
     },
     "metadata": {},
     "output_type": "display_data"
    }
   ],
   "source": [
    "HomNet.plot(0.5, False)"
   ]
  },
  {
   "cell_type": "code",
   "execution_count": 35,
   "id": "84642133",
   "metadata": {},
   "outputs": [
    {
     "name": "stderr",
     "output_type": "stream",
     "text": [
      "/home/user/.local/lib/python3.8/site-packages/sklearn/utils/validation.py:727: FutureWarning: np.matrix usage is deprecated in 1.0 and will raise a TypeError in 1.2. Please convert to a numpy array with np.asarray. For more information see: https://numpy.org/doc/stable/reference/generated/numpy.matrix.html\n",
      "  warnings.warn(\n",
      "/home/user/.local/lib/python3.8/site-packages/sklearn/cluster/_spectral.py:658: UserWarning: The spectral clustering API has changed. ``fit``now constructs an affinity matrix from data. To use a custom affinity matrix, set ``affinity=precomputed``.\n",
      "  warnings.warn(\n",
      "/home/user/.local/lib/python3.8/site-packages/sklearn/utils/validation.py:727: FutureWarning: np.matrix usage is deprecated in 1.0 and will raise a TypeError in 1.2. Please convert to a numpy array with np.asarray. For more information see: https://numpy.org/doc/stable/reference/generated/numpy.matrix.html\n",
      "  warnings.warn(\n",
      "/home/user/.local/lib/python3.8/site-packages/sklearn/cluster/_spectral.py:658: UserWarning: The spectral clustering API has changed. ``fit``now constructs an affinity matrix from data. To use a custom affinity matrix, set ``affinity=precomputed``.\n",
      "  warnings.warn(\n"
     ]
    },
    {
     "name": "stdout",
     "output_type": "stream",
     "text": [
      "RGT2, BPT1, YOR1, PUF3, CBF5\n",
      "RGT2, GPR1, RAS2, PHB1, AAC1, CBF5\n",
      "RGT2, SNF3, HXT2, MUP1, PUF3, CBF5\n"
     ]
    }
   ],
   "source": [
    "path_to_proteins(HomNet.indices_to_pathname(HomNet.Spectral_Cluster(3)[0]))"
   ]
  },
  {
   "cell_type": "code",
   "execution_count": 36,
   "id": "d4671ef8",
   "metadata": {},
   "outputs": [
    {
     "name": "stdout",
     "output_type": "stream",
     "text": [
      "RGT2, GPR1, RAS2, PUF3, HEK2, CBF5\n",
      "RGT2, SNF3, HXT3, PUF3, PBP1, CBF5\n",
      "RGT2, SNF3, HXT3, PUF3, SQS1, CBF5\n"
     ]
    }
   ],
   "source": [
    "path_to_proteins(HomNet.indices_to_pathname(HomNet.KMeans_cluster(3)[0]))"
   ]
  },
  {
   "cell_type": "code",
   "execution_count": null,
   "id": "7d2ae7eb",
   "metadata": {},
   "outputs": [],
   "source": []
  }
 ],
 "metadata": {
  "kernelspec": {
   "display_name": "Python 3.6.8 64-bit",
   "language": "python",
   "name": "python3"
  },
  "language_info": {
   "codemirror_mode": {
    "name": "ipython",
    "version": 3
   },
   "file_extension": ".py",
   "mimetype": "text/x-python",
   "name": "python",
   "nbconvert_exporter": "python",
   "pygments_lexer": "ipython3",
   "version": "3.6.8"
  },
  "vscode": {
   "interpreter": {
    "hash": "31f2aee4e71d21fbe5cf8b01ff0e069b9275f58929596ceb00d14d90e3e16cd6"
   }
  }
 },
 "nbformat": 4,
 "nbformat_minor": 5
}
