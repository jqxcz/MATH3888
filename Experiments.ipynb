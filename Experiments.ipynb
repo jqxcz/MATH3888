{
    "cells": [
        {
            "attachments": {},
            "cell_type": "markdown",
            "metadata": {},
            "source": [
                "# Protein-Protein Interactions in NetworkX"
            ]
        },
        {
            "attachments": {},
            "cell_type": "markdown",
            "metadata": {},
            "source": [
                "We will be using three important open source softwares:\n",
                "\n",
                "    1) The Python programming language: www.python.org\n",
                "    2) Jupyter notebooks: www.jupyter.org\n",
                "    3) The networkX library for networks: https://networkx.github.io/\n",
                "    \n",
                "Please install Python3, Jupyter notebooks and networkx on your laptops and start playing. A convenient way to install these is via a package manager such as **conda**: \n",
                "- https://docs.conda.io/projects/conda/en/latest/user-guide/getting-started.html\n",
                "- https://docs.conda.io/en/latest/miniconda.html\n",
                "\n",
                "An introduction to programming in Python is provided in a separate notebook. "
            ]
        },
        {
            "attachments": {},
            "cell_type": "markdown",
            "metadata": {},
            "source": [
                "# Downloading the protein-protein interaction network data"
            ]
        },
        {
            "attachments": {},
            "cell_type": "markdown",
            "metadata": {},
            "source": [
                "##### - The protein-protein interaction network of Yeast *saccharomyces cerevisiae* has more than $6,000$ proteins. Proteins form physical complexes of $5$-$50$ proteins and there are roughly $100$-$200$ functional communities. \n",
                "\n",
                "- the data can be downloaded from https://string-db.org/ : \n",
                "  -- go to \"download\"; \n",
                "  -- enter *saccharomyces cerevisiae* into the dropdown menu \"organism name\"\n",
                "  -- download the file 4932.protein.links.v11.5.txt.gz\n",
                "\n",
                "- the data are stored as a text-file. The first two columns denote two proteins which are linked. The third column is a score between 0 and 1000, which is a confidence score about the existence of that link. The prefix 4932 signifies the organism. (you should delete this prefix)   \n",
                "\n",
                "- For example, the protein with *standard name* HST1 has a *systematic name*  YOL068C, which is what this data base records, see https://www.yeastgenome.org for details"
            ]
        },
        {
            "attachments": {},
            "cell_type": "markdown",
            "metadata": {},
            "source": [
                "# Reading in the data so that we can manipulate them with NetworkX"
            ]
        },
        {
            "attachments": {},
            "cell_type": "markdown",
            "metadata": {},
            "source": [
                "We'll need to load some specific packages to get started. If you're new to Python, the syntax for this is `import <package_name> as <alias>`. The alias is to save us from having to write out the full package name every time we call a function provided by one of those packages. If you don't already have them installed, try running `pip install <package_name>` in your terminal."
            ]
        },
        {
            "cell_type": "code",
            "execution_count": 1,
            "metadata": {},
            "outputs": [],
            "source": [
                "import pandas as pd\n",
                "df = pd.read_table(\"./4932.protein.info.v11.5.txt\",delimiter='\\t')\n",
                "common_name = dict(df.iloc[:,:2].values)\n",
                "\n",
                "uniprot_df = pd.read_csv('uniprot_processed.csv')"
            ]
        },
        {
            "cell_type": "code",
            "execution_count": 2,
            "metadata": {},
            "outputs": [],
            "source": [
                "# one needs to import those packages which are needed; best to be done at the beginning of the program.\n",
                "import networkx as nx\n",
                "\n",
                "import numpy as np\n",
                "import scipy as sp\n",
                "\n",
                "# some basic settings for plotting figures\n",
                "import matplotlib.pyplot as plt\n",
                "%matplotlib inline \n",
                "font = {'family' : 'DejaVu Sans',\n",
                "        'weight' : 'bold',\n",
                "        'size'   : 32}\n",
                "\n",
                "plt.rc('font', **font)"
            ]
        },
        {
            "attachments": {},
            "cell_type": "markdown",
            "metadata": {},
            "source": [
                "Next, we'll need to load the data into NetworkX. The data is stored as a _weighted edgelist_, which as the name suggests, is a list of edges between nodes (proteins). In NetworkX, how we read this edgelist and use it to generate a network representation is with the method `.read_weighted_edgelist()`. In the cell below we call this function and assign the output (our Network object) the name G0.\n",
                "\n",
                "# Note:\n",
                "The version of the data downloaded from the database contains a _header_ (names for each of the columns), which can cause problems when NetworkX tries to interpret the dataset. If you download the data for yourself, **remember to delete the header first**. Unzip the text file, open it, delete the first line, and then save and continue as normal. A version with the header already removed is already stored on Ed.\n"
            ]
        },
        {
            "cell_type": "code",
            "execution_count": 3,
            "metadata": {},
            "outputs": [],
            "source": [
                "G0_data = pd.read_table(\"./4932.protein.links.detailed.v11.5.txt\",delimiter=' ')"
            ]
        },
        {
            "cell_type": "code",
            "execution_count": 4,
            "metadata": {},
            "outputs": [],
            "source": [
                "keep = ['neighborhood', 'fusion', 'cooccurence', 'coexpression', 'experimental', 'database']\n",
                "G0_data.combined_score = G0_data[keep].max(axis=1)\n",
                "G0_data = G0_data.drop(G0_data[G0_data.combined_score == 0].index)"
            ]
        },
        {
            "cell_type": "code",
            "execution_count": 5,
            "metadata": {},
            "outputs": [
                {
                    "data": {
                        "text/html": [
                            "<div>\n",
                            "<style scoped>\n",
                            "    .dataframe tbody tr th:only-of-type {\n",
                            "        vertical-align: middle;\n",
                            "    }\n",
                            "\n",
                            "    .dataframe tbody tr th {\n",
                            "        vertical-align: top;\n",
                            "    }\n",
                            "\n",
                            "    .dataframe thead th {\n",
                            "        text-align: right;\n",
                            "    }\n",
                            "</style>\n",
                            "<table border=\"1\" class=\"dataframe\">\n",
                            "  <thead>\n",
                            "    <tr style=\"text-align: right;\">\n",
                            "      <th></th>\n",
                            "      <th>protein1</th>\n",
                            "      <th>protein2</th>\n",
                            "      <th>neighborhood</th>\n",
                            "      <th>fusion</th>\n",
                            "      <th>cooccurence</th>\n",
                            "      <th>coexpression</th>\n",
                            "      <th>experimental</th>\n",
                            "      <th>database</th>\n",
                            "      <th>textmining</th>\n",
                            "      <th>combined_score</th>\n",
                            "    </tr>\n",
                            "  </thead>\n",
                            "  <tbody>\n",
                            "    <tr>\n",
                            "      <th>9</th>\n",
                            "      <td>4932.Q0010</td>\n",
                            "      <td>4932.Q0045</td>\n",
                            "      <td>0</td>\n",
                            "      <td>0</td>\n",
                            "      <td>0</td>\n",
                            "      <td>184</td>\n",
                            "      <td>0</td>\n",
                            "      <td>0</td>\n",
                            "      <td>0</td>\n",
                            "      <td>184</td>\n",
                            "    </tr>\n",
                            "    <tr>\n",
                            "      <th>10</th>\n",
                            "      <td>4932.Q0010</td>\n",
                            "      <td>4932.Q0105</td>\n",
                            "      <td>0</td>\n",
                            "      <td>0</td>\n",
                            "      <td>0</td>\n",
                            "      <td>239</td>\n",
                            "      <td>0</td>\n",
                            "      <td>0</td>\n",
                            "      <td>0</td>\n",
                            "      <td>239</td>\n",
                            "    </tr>\n",
                            "    <tr>\n",
                            "      <th>13</th>\n",
                            "      <td>4932.Q0010</td>\n",
                            "      <td>4932.Q0160</td>\n",
                            "      <td>0</td>\n",
                            "      <td>0</td>\n",
                            "      <td>0</td>\n",
                            "      <td>124</td>\n",
                            "      <td>0</td>\n",
                            "      <td>0</td>\n",
                            "      <td>280</td>\n",
                            "      <td>124</td>\n",
                            "    </tr>\n",
                            "    <tr>\n",
                            "      <th>30</th>\n",
                            "      <td>4932.Q0010</td>\n",
                            "      <td>4932.Q0085</td>\n",
                            "      <td>0</td>\n",
                            "      <td>0</td>\n",
                            "      <td>0</td>\n",
                            "      <td>170</td>\n",
                            "      <td>0</td>\n",
                            "      <td>0</td>\n",
                            "      <td>0</td>\n",
                            "      <td>170</td>\n",
                            "    </tr>\n",
                            "    <tr>\n",
                            "      <th>67</th>\n",
                            "      <td>4932.Q0045</td>\n",
                            "      <td>4932.YML120C</td>\n",
                            "      <td>0</td>\n",
                            "      <td>0</td>\n",
                            "      <td>0</td>\n",
                            "      <td>0</td>\n",
                            "      <td>0</td>\n",
                            "      <td>900</td>\n",
                            "      <td>111</td>\n",
                            "      <td>900</td>\n",
                            "    </tr>\n",
                            "    <tr>\n",
                            "      <th>...</th>\n",
                            "      <td>...</td>\n",
                            "      <td>...</td>\n",
                            "      <td>...</td>\n",
                            "      <td>...</td>\n",
                            "      <td>...</td>\n",
                            "      <td>...</td>\n",
                            "      <td>...</td>\n",
                            "      <td>...</td>\n",
                            "      <td>...</td>\n",
                            "      <td>...</td>\n",
                            "    </tr>\n",
                            "    <tr>\n",
                            "      <th>1988570</th>\n",
                            "      <td>4932.YPR204W</td>\n",
                            "      <td>4932.YBR245C</td>\n",
                            "      <td>0</td>\n",
                            "      <td>0</td>\n",
                            "      <td>0</td>\n",
                            "      <td>0</td>\n",
                            "      <td>315</td>\n",
                            "      <td>0</td>\n",
                            "      <td>0</td>\n",
                            "      <td>315</td>\n",
                            "    </tr>\n",
                            "    <tr>\n",
                            "      <th>1988571</th>\n",
                            "      <td>4932.YPR204W</td>\n",
                            "      <td>4932.YNL129W</td>\n",
                            "      <td>0</td>\n",
                            "      <td>0</td>\n",
                            "      <td>0</td>\n",
                            "      <td>0</td>\n",
                            "      <td>167</td>\n",
                            "      <td>0</td>\n",
                            "      <td>43</td>\n",
                            "      <td>167</td>\n",
                            "    </tr>\n",
                            "    <tr>\n",
                            "      <th>1988574</th>\n",
                            "      <td>4932.YPR204W</td>\n",
                            "      <td>4932.YHR128W</td>\n",
                            "      <td>0</td>\n",
                            "      <td>0</td>\n",
                            "      <td>0</td>\n",
                            "      <td>0</td>\n",
                            "      <td>179</td>\n",
                            "      <td>0</td>\n",
                            "      <td>80</td>\n",
                            "      <td>179</td>\n",
                            "    </tr>\n",
                            "    <tr>\n",
                            "      <th>1988584</th>\n",
                            "      <td>4932.YPR204W</td>\n",
                            "      <td>4932.YML057W</td>\n",
                            "      <td>0</td>\n",
                            "      <td>0</td>\n",
                            "      <td>0</td>\n",
                            "      <td>0</td>\n",
                            "      <td>92</td>\n",
                            "      <td>0</td>\n",
                            "      <td>127</td>\n",
                            "      <td>92</td>\n",
                            "    </tr>\n",
                            "    <tr>\n",
                            "      <th>1988590</th>\n",
                            "      <td>4932.YPR204W</td>\n",
                            "      <td>4932.YAL017W</td>\n",
                            "      <td>0</td>\n",
                            "      <td>0</td>\n",
                            "      <td>0</td>\n",
                            "      <td>0</td>\n",
                            "      <td>94</td>\n",
                            "      <td>0</td>\n",
                            "      <td>103</td>\n",
                            "      <td>94</td>\n",
                            "    </tr>\n",
                            "  </tbody>\n",
                            "</table>\n",
                            "<p>1627046 rows × 10 columns</p>\n",
                            "</div>"
                        ],
                        "text/plain": [
                            "             protein1      protein2  neighborhood  fusion  cooccurence  \\\n",
                            "9          4932.Q0010    4932.Q0045             0       0            0   \n",
                            "10         4932.Q0010    4932.Q0105             0       0            0   \n",
                            "13         4932.Q0010    4932.Q0160             0       0            0   \n",
                            "30         4932.Q0010    4932.Q0085             0       0            0   \n",
                            "67         4932.Q0045  4932.YML120C             0       0            0   \n",
                            "...               ...           ...           ...     ...          ...   \n",
                            "1988570  4932.YPR204W  4932.YBR245C             0       0            0   \n",
                            "1988571  4932.YPR204W  4932.YNL129W             0       0            0   \n",
                            "1988574  4932.YPR204W  4932.YHR128W             0       0            0   \n",
                            "1988584  4932.YPR204W  4932.YML057W             0       0            0   \n",
                            "1988590  4932.YPR204W  4932.YAL017W             0       0            0   \n",
                            "\n",
                            "         coexpression  experimental  database  textmining  combined_score  \n",
                            "9                 184             0         0           0             184  \n",
                            "10                239             0         0           0             239  \n",
                            "13                124             0         0         280             124  \n",
                            "30                170             0         0           0             170  \n",
                            "67                  0             0       900         111             900  \n",
                            "...               ...           ...       ...         ...             ...  \n",
                            "1988570             0           315         0           0             315  \n",
                            "1988571             0           167         0          43             167  \n",
                            "1988574             0           179         0          80             179  \n",
                            "1988584             0            92         0         127              92  \n",
                            "1988590             0            94         0         103              94  \n",
                            "\n",
                            "[1627046 rows x 10 columns]"
                        ]
                    },
                    "execution_count": 5,
                    "metadata": {},
                    "output_type": "execute_result"
                }
            ],
            "source": [
                "G0_data"
            ]
        },
        {
            "cell_type": "code",
            "execution_count": 6,
            "metadata": {},
            "outputs": [],
            "source": [
                "# an older file is already stored on Ed at /course/data/4932_protein_links_v11_0.txt\n",
                "# G0 = nx.read_weighted_edgelist(\"./4932.protein.links.v11.5.txt\",comments=\"#\",nodetype=str)\n",
                "\n",
                "# on your laptop it might be:\n",
                "#G0 = nx.read_weighted_edgelist(\"Downloads/4932.protein.links.v11.0.txt\",comments=\"#\",nodetype=str) #Delete the header first or this might not work!\n",
                "# or\n",
                "#G0 = nx.read_weighted_edgelist(\"./../../Data/4932_protein_links_v11_0.txt\",comments=\"#\",nodetype=str) #Delete the header first or this might not work!\n",
                "\n",
                "G0 = nx.from_pandas_edgelist(G0_data, source='protein1', target='protein2', edge_attr=True)"
            ]
        },
        {
            "attachments": {},
            "cell_type": "markdown",
            "metadata": {},
            "source": [
                "The graph of the PPI network is stored as a **weighted** graph in networkx. However the weights, which lie between 0 and 1000, do not signify any strength between two proteins. They are rather used to quantify the degree of confidence one has in the existence of the link/edge. These weights may be based on e.g if more experimental groups have observed evidence of the link, or if more accurate methods were used to detect the link. We therefore:\n",
                "- treat the network as unweighted \n",
                "- reduce the density of the network by deleting those edges which have low confidence scores (below we use a threshold score of 500; we suggest you play with the threshold to see the effects.)"
            ]
        },
        {
            "cell_type": "code",
            "execution_count": 7,
            "metadata": {},
            "outputs": [],
            "source": [
                "# delete those edges with a combined score of <= threshold_score (small confidence)\n",
                "threshold_score = 400\n",
                "for edge in G0.edges: \n",
                "    # weight = list(G0.get_edge_data(edge[0],edge[1]).values())\n",
                "    weight = G0.get_edge_data(edge[0],edge[1])['combined_score']\n",
                "    if(weight <= threshold_score):\n",
                "        G0.remove_edge(edge[0],edge[1])"
            ]
        },
        {
            "cell_type": "code",
            "execution_count": 8,
            "metadata": {},
            "outputs": [],
            "source": [
                "# print(next(iter(G0.nodes)))\n",
                "# uniprot_df.index[uniprot_df['Gene Names'].str.contains('Q0010').]"
            ]
        },
        {
            "cell_type": "code",
            "execution_count": 9,
            "metadata": {},
            "outputs": [
                {
                    "name": "stdout",
                    "output_type": "stream",
                    "text": [
                        "0 1520 317\n",
                        "6265\n"
                    ]
                }
            ],
            "source": [
                "to_remove1 = []\n",
                "to_remove2 = []\n",
                "to_remove3 = []\n",
                "\n",
                "for node in G0.nodes:\n",
                "    try:\n",
                "        node_uniprot = uniprot_df.index[uniprot_df['Gene Names'].str.contains(node.split('.')[1]).fillna(False)][0]\n",
                "    except:\n",
                "        node_uniprot = None\n",
                "    if node_uniprot is None:\n",
                "        to_remove1.append(node)\n",
                "    else:\n",
                "        if uniprot_df['location_match'][node_uniprot] == 0:\n",
                "            to_remove2.append(node)\n",
                "        if uniprot_df['ribosomal'][node_uniprot] == True:\n",
                "            to_remove3.append(node)\n",
                "print(len(to_remove1), len(to_remove2), len(to_remove3))\n",
                "print(len(G0.nodes))\n",
                "G0.remove_nodes_from(to_remove1 + to_remove2 + to_remove3)"
            ]
        },
        {
            "cell_type": "code",
            "execution_count": 10,
            "metadata": {},
            "outputs": [],
            "source": [
                "# Remove disconnected nodes\n",
                "G0.remove_nodes_from(list(nx.isolates(G0)))\n"
            ]
        },
        {
            "cell_type": "code",
            "execution_count": 11,
            "metadata": {},
            "outputs": [
                {
                    "data": {
                        "text/plain": [
                            "3944"
                        ]
                    },
                    "execution_count": 11,
                    "metadata": {},
                    "output_type": "execute_result"
                }
            ],
            "source": [
                "len(G0.nodes)"
            ]
        },
        {
            "cell_type": "code",
            "execution_count": 12,
            "metadata": {},
            "outputs": [],
            "source": [
                "import networkx.algorithms.community as nx_comm\n",
                "\n",
                "result_louvain = nx_comm.louvain_communities(G0, resolution=2.5)"
            ]
        },
        {
            "cell_type": "code",
            "execution_count": 13,
            "metadata": {},
            "outputs": [],
            "source": [
                "# import networkx.algorithms.clique as nx_clique\n",
                "\n",
                "# Gtemp = G0.copy()\n",
                "# result_clique = []\n",
                "# while len(Gtemp.nodes) > 0:\n",
                "#     clique_gen = nx_clique.find_cliques(Gtemp)\n",
                "#     clique = next(clique_gen)\n",
                "#     result_clique.append(set(clique))\n",
                "#     Gtemp.remove_nodes_from(clique)\n",
                "\n",
                "\n"
            ]
        },
        {
            "cell_type": "code",
            "execution_count": 14,
            "metadata": {},
            "outputs": [],
            "source": [
                "# print(sum(map(len, result_clique))/len(result_clique), len(result_clique))"
            ]
        },
        {
            "cell_type": "code",
            "execution_count": 15,
            "metadata": {},
            "outputs": [
                {
                    "name": "stdout",
                    "output_type": "stream",
                    "text": [
                        "85.73913043478261 46\n",
                        "[170, 26, 227, 83, 3, 49, 285, 326, 143, 77, 13, 23, 9, 2, 2, 256, 2, 2, 116, 127, 120, 223, 2, 228, 95, 2, 146, 3, 187, 10, 2, 15, 3, 195, 2, 3, 10, 2, 47, 2, 142, 284, 183, 2, 3, 92]\n"
                    ]
                }
            ],
            "source": [
                "print(sum(map(len, result_louvain))/len(result_louvain), len(result_louvain))\n",
                "\n",
                "\n",
                "louvain_sizes = list(map(len, result_louvain))\n",
                "# louvain_sizes.sort(reverse=True)\n",
                "print(louvain_sizes)"
            ]
        },
        {
            "cell_type": "code",
            "execution_count": 16,
            "metadata": {},
            "outputs": [],
            "source": [
                "G2 = nx.Graph()\n",
                "for community in result_louvain:\n",
                "    G2.add_node(tuple(community))\n",
                "\n",
                "node_to_community = {}\n",
                "for i, community in enumerate(result_louvain):\n",
                "    node_to_community.update(dict.fromkeys(community, i))\n",
                "\n",
                "\n",
                "adjacency = [[0] * len(result_louvain) for _ in range(len(result_louvain))]\n",
                "\n",
                "for edge in G0.edges:\n",
                "    adjacency[node_to_community[edge[0]]][node_to_community[edge[1]]] += 1\n",
                "    adjacency[node_to_community[edge[1]]][node_to_community[edge[0]]] += 1\n",
                "\n",
                "for i in range(len(result_louvain)):\n",
                "    for j in range(len(result_louvain)):\n",
                "        if i != j and adjacency[i][j] > 0:\n",
                "            G2.add_edge(tuple(result_louvain[i]), tuple(result_louvain[j]), weight=adjacency[i][j]/(len(result_louvain[i]) + len(result_louvain[j])))\n",
                "            # G2.add_edge(tuple(result_louvain[i]), tuple(result_louvain[j]), weight=adjacency[i][j])\n"
            ]
        },
        {
            "cell_type": "code",
            "execution_count": 17,
            "metadata": {},
            "outputs": [
                {
                    "name": "stdout",
                    "output_type": "stream",
                    "text": [
                        "46 2\n"
                    ]
                }
            ],
            "source": [
                "# test community size\n",
                "community_test = sorted(result_louvain, key=len)\n",
                "print(len(community_test), len(community_test[0]))"
            ]
        },
        {
            "cell_type": "code",
            "execution_count": 18,
            "metadata": {},
            "outputs": [],
            "source": [
                "community_to_index = {}\n",
                "for i, community in enumerate(result_louvain):\n",
                "    community_to_index[tuple(community)] = i"
            ]
        },
        {
            "cell_type": "code",
            "execution_count": 19,
            "metadata": {},
            "outputs": [
                {
                    "name": "stdout",
                    "output_type": "stream",
                    "text": [
                        "116.8913043478261\n"
                    ]
                }
            ],
            "source": [
                "print(sum(adjacency[0])/len(adjacency[0]))"
            ]
        },
        {
            "cell_type": "code",
            "execution_count": 20,
            "metadata": {},
            "outputs": [
                {
                    "data": {
                        "image/png": "[encoded data removed]",
                        "text/plain": [
                            "<Figure size 432x288 with 1 Axes>"
                        ]
                    },
                    "metadata": {},
                    "output_type": "display_data"
                }
            ],
            "source": [
                "weights = [G2[u][v]['weight']/100 for u,v in G2.edges]\n",
                "nx.draw(G2,node_size = 20, pos=nx.spring_layout(G2, weight='weight'))"
            ]
        },
        {
            "cell_type": "code",
            "execution_count": 21,
            "metadata": {},
            "outputs": [
                {
                    "name": "stdout",
                    "output_type": "stream",
                    "text": [
                        "23\n",
                        "40\n",
                        "21\n",
                        "18\n"
                    ]
                }
            ],
            "source": [
                "studied_proteins = {\n",
                "    'DIC1': '4932.YLR348C',\n",
                "    'RGT2': '4932.YDL138W',\n",
                "    'CBF5': '4932.YLR175W',\n",
                "    'EST2': '4932.YLR318W'\n",
                "}\n",
                "\n",
                "proteins = set(G0.nodes)\n",
                "\n",
                "studied_communities = {}\n",
                "for key, value in studied_proteins.items():\n",
                "    print(node_to_community[value])\n",
                "    studied_communities[key] = tuple(result_louvain[node_to_community[value]])\n",
                "\n",
                "\n"
            ]
        },
        {
            "cell_type": "code",
            "execution_count": 22,
            "metadata": {},
            "outputs": [],
            "source": [
                "subset = set()\n",
                "subset.update(studied_communities.values())\n",
                "\n",
                "for comm in studied_communities.values():\n",
                "    subset.update(G2[comm])"
            ]
        },
        {
            "cell_type": "code",
            "execution_count": 23,
            "metadata": {},
            "outputs": [
                {
                    "name": "stdout",
                    "output_type": "stream",
                    "text": [
                        "29 46\n"
                    ]
                }
            ],
            "source": [
                "print(len(subset), len(G2.nodes))"
            ]
        },
        {
            "cell_type": "code",
            "execution_count": 24,
            "metadata": {},
            "outputs": [],
            "source": [
                "import networkx.algorithms.flow as nx_flow\n",
                "\n",
                "cut_value, (U, V) = nx_flow.minimum_cut(G2, studied_communities['RGT2'], studied_communities['EST2'], capacity='weight')"
            ]
        },
        {
            "cell_type": "code",
            "execution_count": 25,
            "metadata": {},
            "outputs": [
                {
                    "name": "stdout",
                    "output_type": "stream",
                    "text": [
                        "15 31\n",
                        "[(0.33760683760683763, 40, 7), (0.3353115727002967, 40, 33), (0.24371859296482412, 40, 15), (0.22676579925650558, 40, 19), (0.19718309859154928, 40, 41)]\n"
                    ]
                }
            ],
            "source": [
                "edges = []\n",
                "\n",
                "for u in U:\n",
                "    for v in V:\n",
                "        if G2.has_edge(u, v):\n",
                "            edges.append((G2[u][v]['weight'], community_to_index[u], community_to_index[v]))\n",
                "edges.sort(reverse=True)\n",
                "\n",
                "print(len(U), len(V))\n",
                "print(edges[:5])"
            ]
        },
        {
            "cell_type": "code",
            "execution_count": 26,
            "metadata": {},
            "outputs": [
                {
                    "name": "stderr",
                    "output_type": "stream",
                    "text": [
                        "<ipython-input-26-04f76ff58f27>:2: DeprecationWarning: \n",
                        "\n",
                        "The scipy.sparse array containers will be used instead of matrices\n",
                        "in Networkx 3.0. Use `to_scipy_sparse_array` instead.\n",
                        "  matrix = nx.to_scipy_sparse_matrix(G2)\n"
                    ]
                }
            ],
            "source": [
                "import markov_clustering as mc\n",
                "matrix = nx.to_scipy_sparse_matrix(G2)\n",
                "result_mc = mc.run_mcl(matrix)\n",
                "clusters = mc.get_clusters(result_mc)"
            ]
        },
        {
            "cell_type": "code",
            "execution_count": 27,
            "metadata": {},
            "outputs": [
                {
                    "data": {
                        "text/plain": [
                            "26"
                        ]
                    },
                    "execution_count": 27,
                    "metadata": {},
                    "output_type": "execute_result"
                }
            ],
            "source": [
                "len(clusters)"
            ]
        },
        {
            "cell_type": "code",
            "execution_count": 28,
            "metadata": {},
            "outputs": [],
            "source": [
                "G3 = G2.copy()\n",
                "# delete those edges with a combined score of <= threshold_score (small confidence)\n",
                "threshold_score = 0.05\n",
                "edge_weights = []\n",
                "for edge in G3.edges: \n",
                "    weight = G3[edge[0]][edge[1]]['weight']\n",
                "    edge_weights.append(weight)\n",
                "    if(weight < threshold_score):\n",
                "        G3.remove_edge(edge[0],edge[1])"
            ]
        },
        {
            "cell_type": "code",
            "execution_count": 29,
            "metadata": {},
            "outputs": [],
            "source": [
                "G3.remove_nodes_from(list(nx.isolates(G3)))\n"
            ]
        },
        {
            "cell_type": "code",
            "execution_count": 30,
            "metadata": {},
            "outputs": [
                {
                    "name": "stdout",
                    "output_type": "stream",
                    "text": [
                        "338\n"
                    ]
                }
            ],
            "source": [
                "print(len(G2.edges))"
            ]
        },
        {
            "cell_type": "code",
            "execution_count": 31,
            "metadata": {},
            "outputs": [
                {
                    "name": "stdout",
                    "output_type": "stream",
                    "text": [
                        "0.0755813953488372\n"
                    ]
                }
            ],
            "source": [
                "print(sorted(edge_weights)[len(edge_weights)//2])"
            ]
        },
        {
            "cell_type": "code",
            "execution_count": 32,
            "metadata": {},
            "outputs": [
                {
                    "data": {
                        "image/png": "[encoded data removed]",
                        "text/plain": [
                            "<Figure size 432x288 with 1 Axes>"
                        ]
                    },
                    "metadata": {},
                    "output_type": "display_data"
                }
            ],
            "source": [
                "nx.draw(G3,node_size = 20, pos=nx.spring_layout(G2, weight='weight'))"
            ]
        },
        {
            "cell_type": "code",
            "execution_count": 33,
            "metadata": {},
            "outputs": [],
            "source": [
                "import networkx.algorithms.shortest_paths as nx_path"
            ]
        },
        {
            "cell_type": "code",
            "execution_count": 34,
            "metadata": {},
            "outputs": [],
            "source": [
                "class Widest_Add():\n",
                "    def __init__(self, width):\n",
                "        self.width = width\n",
                "    def __add__(self, other):\n",
                "        # maybe put a check that other has class Widest_Add. But shouldn't need.\n",
                "        if isinstance(other, int):\n",
                "            return Widest_Add(max(self.width, other))\n",
                "        return Widest_Add(max(self.width, other.width))\n",
                "    def __radd__(self, other):\n",
                "        # maybe put a check that other has class Widest_Add. But shouldn't need.\n",
                "        if isinstance(other, int):\n",
                "            return Widest_Add(max(self.width, other))\n",
                "        return Widest_Add(max(self.width, other.width)) \n",
                "    def __le__(self, other):\n",
                "        if isinstance(other, int):\n",
                "            other = Widest_Add(other)\n",
                "        return self.width <= other.width\n",
                "    def __lt__(self, other):\n",
                "        if isinstance(other, int):\n",
                "            other = Widest_Add(other)\n",
                "        return self.width < other.width\n",
                "    def __eq__(self, other):\n",
                "        if isinstance(other, int):\n",
                "            other = Widest_Add(other)\n",
                "        return self.width == other.width\n",
                "    # might need > or >= too, but I don't think so... look at _dijkstra_multisource and operations on uv_dist\n",
                "\n",
                "def widest_weight(node1, node2, datadict):\n",
                "    # This assume the graph stores a number in edge attribute 'width'\n",
                "    return Widest_Add(1/datadict['weight'])\n",
                "\n",
                "def widest_weight2(node1, node2, datadict):\n",
                "    # This assume the graph stores a number in edge attribute 'width'\n",
                "    return Widest_Add(datadict['weight'])\n",
                "\n"
            ]
        },
        {
            "cell_type": "code",
            "execution_count": 35,
            "metadata": {},
            "outputs": [],
            "source": [
                "def get_representative_node(prev, curr, next):\n",
                "    candidates = set(curr)\n",
                "\n",
                "    left = set()\n",
                "    for node in prev:\n",
                "        left |= set(G0[node])\n",
                "    right = set()\n",
                "    for node in next:\n",
                "        right |= set(G0[node])\n",
                "    return candidates & left & right"
            ]
        },
        {
            "cell_type": "code",
            "execution_count": 36,
            "metadata": {},
            "outputs": [],
            "source": [
                "def try_process(start, end):\n",
                "    widest_path = nx_path.dijkstra_path(G2, studied_communities[start], studied_communities[end], widest_weight)\n",
                "    widest_path2 = nx_path.dijkstra_path(G2, studied_communities[start], studied_communities[end], widest_weight2)\n",
                "    # print(len(widest_path))\n",
                "    widest_path_edges = []\n",
                "    for i in range(len(widest_path) - 1):\n",
                "        u,v = widest_path[i], widest_path[i+1]\n",
                "        widest_path_edges.append((community_to_index[u], community_to_index[v], G2[u][v]['weight']))\n",
                "\n",
                "    # print(len(widest_path2))\n",
                "    widest_path_edges2 = []\n",
                "    for i in range(len(widest_path2) - 1):\n",
                "        u,v = widest_path2[i], widest_path2[i+1]\n",
                "        widest_path_edges2.append((community_to_index[u], community_to_index[v], G2[u][v]['weight']))\n",
                "    # print(widest_path_edges)\n",
                "    # print(widest_path_edges2)\n",
                "\n",
                "    centers = []\n",
                "    path_elems = [[studied_proteins[start]]] + widest_path + [[studied_proteins[end]]]\n",
                "    for i, community in enumerate(widest_path):\n",
                "        subgraph = G0.subgraph(community)\n",
                "        betCent = nx.betweenness_centrality(subgraph, normalized=True, endpoints=True)\n",
                "        comm_nodes = sorted(betCent.items(), key=lambda x: x[1], reverse=True)\n",
                "        reps = get_representative_node(path_elems[i], community, path_elems[i+2])\n",
                "        for node, _ in comm_nodes:\n",
                "            if node in reps:\n",
                "                centers.append(node)\n",
                "                print('hit', node)\n",
                "                break\n",
                "        else:\n",
                "            central_node = comm_nodes[0][0]\n",
                "            print('miss', central_node)\n",
                "            centers.append(central_node)\n",
                "    print(centers)\n",
                "    print(list(map(common_name.get, centers)))\n",
                "    return start, list(map(common_name.get, centers)), end"
            ]
        },
        {
            "cell_type": "code",
            "execution_count": 41,
            "metadata": {},
            "outputs": [
                {
                    "data": {
                        "text/plain": [
                            "46"
                        ]
                    },
                    "execution_count": 41,
                    "metadata": {},
                    "output_type": "execute_result"
                }
            ],
            "source": []
        },
        {
            "cell_type": "code",
            "execution_count": 37,
            "metadata": {},
            "outputs": [
                {
                    "name": "stdout",
                    "output_type": "stream",
                    "text": [
                        "hit 4932.YLL013C\n",
                        "hit 4932.YBL045C\n",
                        "hit 4932.YKL106W\n",
                        "hit 4932.YLL039C\n",
                        "hit 4932.YPL093W\n",
                        "['4932.YLL013C', '4932.YBL045C', '4932.YKL106W', '4932.YLL039C', '4932.YPL093W']\n",
                        "['PUF3', 'COR1', 'AAT1', 'UBI4', 'NOG1']\n",
                        "DIC1\n",
                        "PUF3\n",
                        "COR1\n",
                        "AAT1\n",
                        "UBI4\n",
                        "NOG1\n",
                        "CBF5\n",
                        "hit 4932.YLL013C\n",
                        "hit 4932.YBL045C\n",
                        "hit 4932.YKL106W\n",
                        "hit 4932.YLL039C\n",
                        "hit 4932.YER165W\n",
                        "['4932.YLL013C', '4932.YBL045C', '4932.YKL106W', '4932.YLL039C', '4932.YER165W']\n",
                        "['PUF3', 'COR1', 'AAT1', 'UBI4', 'PAB1']\n",
                        "DIC1\n",
                        "PUF3\n",
                        "COR1\n",
                        "AAT1\n",
                        "UBI4\n",
                        "PAB1\n",
                        "EST2\n",
                        "hit 4932.YDR477W\n",
                        "hit 4932.YFL005W\n",
                        "hit 4932.YOR085W\n",
                        "hit 4932.YLL039C\n",
                        "hit 4932.YPL093W\n",
                        "['4932.YDR477W', '4932.YFL005W', '4932.YOR085W', '4932.YLL039C', '4932.YPL093W']\n",
                        "['SNF1', 'SEC4', 'OST3', 'UBI4', 'NOG1']\n",
                        "RGT2\n",
                        "SNF1\n",
                        "SEC4\n",
                        "OST3\n",
                        "UBI4\n",
                        "NOG1\n",
                        "CBF5\n",
                        "hit 4932.YDR477W\n",
                        "hit 4932.YFL005W\n",
                        "hit 4932.YOR085W\n",
                        "hit 4932.YLL039C\n",
                        "hit 4932.YER165W\n",
                        "['4932.YDR477W', '4932.YFL005W', '4932.YOR085W', '4932.YLL039C', '4932.YER165W']\n",
                        "['SNF1', 'SEC4', 'OST3', 'UBI4', 'PAB1']\n",
                        "RGT2\n",
                        "SNF1\n",
                        "SEC4\n",
                        "OST3\n",
                        "UBI4\n",
                        "PAB1\n",
                        "EST2\n"
                    ]
                }
            ],
            "source": [
                "for start in ['DIC1', 'RGT2']:\n",
                "    for end in ['CBF5', 'EST2']:\n",
                "        _, path, _ = try_process(start, end)\n",
                "        print(start, *path, end, sep='\\n')"
            ]
        },
        {
            "cell_type": "code",
            "execution_count": 38,
            "metadata": {},
            "outputs": [
                {
                    "name": "stdout",
                    "output_type": "stream",
                    "text": [
                        "hit 4932.YDR477W\n",
                        "hit 4932.YFL005W\n",
                        "hit 4932.YOR085W\n",
                        "hit 4932.YLL039C\n",
                        "hit 4932.YER165W\n",
                        "['4932.YDR477W', '4932.YFL005W', '4932.YOR085W', '4932.YLL039C', '4932.YER165W']\n",
                        "['SNF1', 'SEC4', 'OST3', 'UBI4', 'PAB1']\n",
                        "RGT2 ['SNF1', 'SEC4', 'OST3', 'UBI4', 'PAB1'] EST2\n"
                    ]
                }
            ],
            "source": [
                "print(*try_process('RGT2', 'EST2'))"
            ]
        },
        {
            "cell_type": "code",
            "execution_count": null,
            "metadata": {},
            "outputs": [],
            "source": []
        }
    ],
    "metadata": {
        "kernelspec": {
            "display_name": "Python 3.8.10 64-bit",
            "language": "python",
            "name": "python3"
        },
        "language_info": {
            "codemirror_mode": {
                "name": "ipython",
                "version": 3
            },
            "file_extension": ".py",
            "mimetype": "text/x-python",
            "name": "python",
            "nbconvert_exporter": "python",
            "pygments_lexer": "ipython3",
            "version": "3.8.10"
        },
        "vscode": {
            "interpreter": {
                "hash": "767d51c1340bd893661ea55ea3124f6de3c7a262a8b4abca0554b478b1e2ff90"
            }
        }
    },
    "nbformat": 4,
    "nbformat_minor": 4
}
